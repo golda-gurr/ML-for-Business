{
 "cells": [
  {
   "cell_type": "markdown",
   "metadata": {},
   "source": [
    "# Курс \"Машинное обучение в бизнесе\""
   ]
  },
  {
   "cell_type": "markdown",
   "metadata": {},
   "source": [
    "## Практическое задание урока 5. Задача оттока: варианты постановки, возможные способы решения"
   ]
  },
  {
   "cell_type": "markdown",
   "metadata": {},
   "source": [
    "1. Для нашего пайплайна (Case1) поэкспериментировать с разными моделями: 1 - бустинг, 2 - логистическая регрессия (не забудьте здесь добавить в cont_transformer стандартизацию - нормирование вещественных признаков)\n",
    "2. Отобрать лучшую модель по метрикам (кстати, какая по вашему мнению здесь наиболее подходящая DS-метрика)\n",
    "3. Для отобранной модели (на отложенной выборке) сделать оценку экономической эффективности при тех же вводных, как в вопросе 2 (1 доллар на привлечение, 2 доллара - с каждого правильно классифицированного (True Positive) удержанного). (подсказка) нужно посчитать FP/TP/FN/TN для выбранного оптимального порога вероятности и посчитать выручку и траты.\n",
    "4. (опционально) Провести подбор гиперпараметров лучшей модели по итогам 2-3\n",
    "5. (опционально) Еще раз провести оценку экономической эффективности\n"
   ]
  },
  {
   "cell_type": "markdown",
   "metadata": {},
   "source": [
    "### Решение"
   ]
  },
  {
   "cell_type": "code",
   "execution_count": 219,
   "metadata": {},
   "outputs": [],
   "source": [
    "import pandas as pd\n",
    "import numpy as np\n",
    "from sklearn.pipeline import Pipeline, make_pipeline\n",
    "from sklearn.base import BaseEstimator, TransformerMixin\n",
    "\n",
    "from sklearn.model_selection import cross_val_score, train_test_split\n",
    "#from sklearn.feature_extraction.text import TfidfVectorizer\n",
    "import itertools\n",
    "\n",
    "import matplotlib.pyplot as plt\n",
    "\n",
    "%matplotlib inline"
   ]
  },
  {
   "cell_type": "markdown",
   "metadata": {},
   "source": [
    "Работаем с набором данных с платформы kaggle https://www.kaggle.com/adammaus/predicting-churn-for-bank-customers по оттоку клиентов банка"
   ]
  },
  {
   "cell_type": "code",
   "execution_count": 220,
   "metadata": {},
   "outputs": [
    {
     "data": {
      "text/html": [
       "<div>\n",
       "<style scoped>\n",
       "    .dataframe tbody tr th:only-of-type {\n",
       "        vertical-align: middle;\n",
       "    }\n",
       "\n",
       "    .dataframe tbody tr th {\n",
       "        vertical-align: top;\n",
       "    }\n",
       "\n",
       "    .dataframe thead th {\n",
       "        text-align: right;\n",
       "    }\n",
       "</style>\n",
       "<table border=\"1\" class=\"dataframe\">\n",
       "  <thead>\n",
       "    <tr style=\"text-align: right;\">\n",
       "      <th></th>\n",
       "      <th>RowNumber</th>\n",
       "      <th>CustomerId</th>\n",
       "      <th>Surname</th>\n",
       "      <th>CreditScore</th>\n",
       "      <th>Geography</th>\n",
       "      <th>Gender</th>\n",
       "      <th>Age</th>\n",
       "      <th>Tenure</th>\n",
       "      <th>Balance</th>\n",
       "      <th>NumOfProducts</th>\n",
       "      <th>HasCrCard</th>\n",
       "      <th>IsActiveMember</th>\n",
       "      <th>EstimatedSalary</th>\n",
       "      <th>Exited</th>\n",
       "    </tr>\n",
       "  </thead>\n",
       "  <tbody>\n",
       "    <tr>\n",
       "      <th>0</th>\n",
       "      <td>1</td>\n",
       "      <td>15634602</td>\n",
       "      <td>Hargrave</td>\n",
       "      <td>619</td>\n",
       "      <td>France</td>\n",
       "      <td>Female</td>\n",
       "      <td>42</td>\n",
       "      <td>2</td>\n",
       "      <td>0.00</td>\n",
       "      <td>1</td>\n",
       "      <td>1</td>\n",
       "      <td>1</td>\n",
       "      <td>101348.88</td>\n",
       "      <td>1</td>\n",
       "    </tr>\n",
       "    <tr>\n",
       "      <th>1</th>\n",
       "      <td>2</td>\n",
       "      <td>15647311</td>\n",
       "      <td>Hill</td>\n",
       "      <td>608</td>\n",
       "      <td>Spain</td>\n",
       "      <td>Female</td>\n",
       "      <td>41</td>\n",
       "      <td>1</td>\n",
       "      <td>83807.86</td>\n",
       "      <td>1</td>\n",
       "      <td>0</td>\n",
       "      <td>1</td>\n",
       "      <td>112542.58</td>\n",
       "      <td>0</td>\n",
       "    </tr>\n",
       "    <tr>\n",
       "      <th>2</th>\n",
       "      <td>3</td>\n",
       "      <td>15619304</td>\n",
       "      <td>Onio</td>\n",
       "      <td>502</td>\n",
       "      <td>France</td>\n",
       "      <td>Female</td>\n",
       "      <td>42</td>\n",
       "      <td>8</td>\n",
       "      <td>159660.80</td>\n",
       "      <td>3</td>\n",
       "      <td>1</td>\n",
       "      <td>0</td>\n",
       "      <td>113931.57</td>\n",
       "      <td>1</td>\n",
       "    </tr>\n",
       "  </tbody>\n",
       "</table>\n",
       "</div>"
      ],
      "text/plain": [
       "   RowNumber  CustomerId   Surname  CreditScore Geography  Gender  Age  \\\n",
       "0          1    15634602  Hargrave          619    France  Female   42   \n",
       "1          2    15647311      Hill          608     Spain  Female   41   \n",
       "2          3    15619304      Onio          502    France  Female   42   \n",
       "\n",
       "   Tenure    Balance  NumOfProducts  HasCrCard  IsActiveMember  \\\n",
       "0       2       0.00              1          1               1   \n",
       "1       1   83807.86              1          0               1   \n",
       "2       8  159660.80              3          1               0   \n",
       "\n",
       "   EstimatedSalary  Exited  \n",
       "0        101348.88       1  \n",
       "1        112542.58       0  \n",
       "2        113931.57       1  "
      ]
     },
     "execution_count": 220,
     "metadata": {},
     "output_type": "execute_result"
    }
   ],
   "source": [
    "df = pd.read_csv(\"churn_data.csv\")\n",
    "df.head(3)"
   ]
  },
  {
   "cell_type": "markdown",
   "metadata": {},
   "source": [
    "Есть как категориальные, так и вещественные признаки. Поле CustomerId нужно будет удалить.\n",
    "\n",
    "Посмотрим на распределение классов:"
   ]
  },
  {
   "cell_type": "code",
   "execution_count": 221,
   "metadata": {},
   "outputs": [
    {
     "data": {
      "text/plain": [
       "0    7963\n",
       "1    2037\n",
       "Name: Exited, dtype: int64"
      ]
     },
     "execution_count": 221,
     "metadata": {},
     "output_type": "execute_result"
    }
   ],
   "source": [
    "df['Exited'].value_counts()"
   ]
  },
  {
   "cell_type": "markdown",
   "metadata": {},
   "source": [
    "Имеем распределение 1 к 4"
   ]
  },
  {
   "cell_type": "markdown",
   "metadata": {},
   "source": [
    "Давайте построим модель. Сразу же будем работать с использованием sklearn pipeline"
   ]
  },
  {
   "cell_type": "code",
   "execution_count": 222,
   "metadata": {},
   "outputs": [],
   "source": [
    "#разделим данные на train/test\n",
    "X_train, X_test, y_train, y_test = train_test_split(df, df['Exited'], random_state=0)"
   ]
  },
  {
   "cell_type": "markdown",
   "metadata": {},
   "source": [
    "* Категориальные признаки закодируем с помощью OneHotEncoding\n",
    "* Вещественные оставим пока как есть"
   ]
  },
  {
   "cell_type": "code",
   "execution_count": 223,
   "metadata": {},
   "outputs": [],
   "source": [
    "#соберем наш простой pipeline, но нам понадобится написать класс для выбора нужного поля\n",
    "class FeatureSelector(BaseEstimator, TransformerMixin):\n",
    "    def __init__(self, column):\n",
    "        self.column = column\n",
    "\n",
    "    def fit(self, X, y=None):\n",
    "        return self\n",
    "\n",
    "    def transform(self, X, y=None):\n",
    "        return X[self.column]\n",
    "    \n",
    "class NumberSelector(BaseEstimator, TransformerMixin):\n",
    "    \"\"\"\n",
    "    Transformer to select a single column from the data frame to perform additional transformations on\n",
    "    Use on numeric columns in the data\n",
    "    \"\"\"\n",
    "    def __init__(self, key):\n",
    "        self.key = key\n",
    "\n",
    "    def fit(self, X, y=None):\n",
    "        return self\n",
    "\n",
    "    def transform(self, X):\n",
    "        return X[[self.key]]\n",
    "    \n",
    "class OHEEncoder(BaseEstimator, TransformerMixin):\n",
    "    def __init__(self, key):\n",
    "        self.key = key\n",
    "        self.columns = []\n",
    "\n",
    "    def fit(self, X, y=None):\n",
    "        self.columns = [col for col in pd.get_dummies(X, prefix=self.key).columns]\n",
    "        return self\n",
    "\n",
    "    def transform(self, X):\n",
    "        X = pd.get_dummies(X, prefix=self.key)\n",
    "        test_columns = [col for col in X.columns]\n",
    "        for col_ in self.columns:\n",
    "            if col_ not in test_columns:\n",
    "                X[col_] = 0\n",
    "        return X[self.columns]"
   ]
  },
  {
   "cell_type": "code",
   "execution_count": 224,
   "metadata": {},
   "outputs": [
    {
     "data": {
      "text/html": [
       "<div>\n",
       "<style scoped>\n",
       "    .dataframe tbody tr th:only-of-type {\n",
       "        vertical-align: middle;\n",
       "    }\n",
       "\n",
       "    .dataframe tbody tr th {\n",
       "        vertical-align: top;\n",
       "    }\n",
       "\n",
       "    .dataframe thead th {\n",
       "        text-align: right;\n",
       "    }\n",
       "</style>\n",
       "<table border=\"1\" class=\"dataframe\">\n",
       "  <thead>\n",
       "    <tr style=\"text-align: right;\">\n",
       "      <th></th>\n",
       "      <th>RowNumber</th>\n",
       "      <th>CustomerId</th>\n",
       "      <th>Surname</th>\n",
       "      <th>CreditScore</th>\n",
       "      <th>Geography</th>\n",
       "      <th>Gender</th>\n",
       "      <th>Age</th>\n",
       "      <th>Tenure</th>\n",
       "      <th>Balance</th>\n",
       "      <th>NumOfProducts</th>\n",
       "      <th>HasCrCard</th>\n",
       "      <th>IsActiveMember</th>\n",
       "      <th>EstimatedSalary</th>\n",
       "      <th>Exited</th>\n",
       "    </tr>\n",
       "  </thead>\n",
       "  <tbody>\n",
       "    <tr>\n",
       "      <th>0</th>\n",
       "      <td>1</td>\n",
       "      <td>15634602</td>\n",
       "      <td>Hargrave</td>\n",
       "      <td>619</td>\n",
       "      <td>France</td>\n",
       "      <td>Female</td>\n",
       "      <td>42</td>\n",
       "      <td>2</td>\n",
       "      <td>0.00</td>\n",
       "      <td>1</td>\n",
       "      <td>1</td>\n",
       "      <td>1</td>\n",
       "      <td>101348.88</td>\n",
       "      <td>1</td>\n",
       "    </tr>\n",
       "    <tr>\n",
       "      <th>1</th>\n",
       "      <td>2</td>\n",
       "      <td>15647311</td>\n",
       "      <td>Hill</td>\n",
       "      <td>608</td>\n",
       "      <td>Spain</td>\n",
       "      <td>Female</td>\n",
       "      <td>41</td>\n",
       "      <td>1</td>\n",
       "      <td>83807.86</td>\n",
       "      <td>1</td>\n",
       "      <td>0</td>\n",
       "      <td>1</td>\n",
       "      <td>112542.58</td>\n",
       "      <td>0</td>\n",
       "    </tr>\n",
       "    <tr>\n",
       "      <th>2</th>\n",
       "      <td>3</td>\n",
       "      <td>15619304</td>\n",
       "      <td>Onio</td>\n",
       "      <td>502</td>\n",
       "      <td>France</td>\n",
       "      <td>Female</td>\n",
       "      <td>42</td>\n",
       "      <td>8</td>\n",
       "      <td>159660.80</td>\n",
       "      <td>3</td>\n",
       "      <td>1</td>\n",
       "      <td>0</td>\n",
       "      <td>113931.57</td>\n",
       "      <td>1</td>\n",
       "    </tr>\n",
       "  </tbody>\n",
       "</table>\n",
       "</div>"
      ],
      "text/plain": [
       "   RowNumber  CustomerId   Surname  CreditScore Geography  Gender  Age  \\\n",
       "0          1    15634602  Hargrave          619    France  Female   42   \n",
       "1          2    15647311      Hill          608     Spain  Female   41   \n",
       "2          3    15619304      Onio          502    France  Female   42   \n",
       "\n",
       "   Tenure    Balance  NumOfProducts  HasCrCard  IsActiveMember  \\\n",
       "0       2       0.00              1          1               1   \n",
       "1       1   83807.86              1          0               1   \n",
       "2       8  159660.80              3          1               0   \n",
       "\n",
       "   EstimatedSalary  Exited  \n",
       "0        101348.88       1  \n",
       "1        112542.58       0  \n",
       "2        113931.57       1  "
      ]
     },
     "execution_count": 224,
     "metadata": {},
     "output_type": "execute_result"
    }
   ],
   "source": [
    "df.head(3)"
   ]
  },
  {
   "cell_type": "markdown",
   "metadata": {},
   "source": [
    "Зададим списки признаков"
   ]
  },
  {
   "cell_type": "code",
   "execution_count": 225,
   "metadata": {},
   "outputs": [],
   "source": [
    "categorical_columns = ['Geography', 'Gender', 'Tenure', 'HasCrCard', 'IsActiveMember']\n",
    "continuous_columns = ['CreditScore', 'Age', 'Balance', 'NumOfProducts', 'EstimatedSalary']"
   ]
  },
  {
   "cell_type": "markdown",
   "metadata": {},
   "source": [
    "Под каждый признак создаем трансформер и объединяем их в список (сделаем это в цикле, чтобы не мучиться).\n",
    "\n",
    "Добавляем в cont_transformer стандартизацию вещественных признаков."
   ]
  },
  {
   "cell_type": "code",
   "execution_count": 226,
   "metadata": {},
   "outputs": [],
   "source": [
    "from sklearn.preprocessing import StandardScaler\n",
    "\n",
    "final_transformers = list()\n",
    "\n",
    "for cat_col in categorical_columns:\n",
    "    cat_transformer = Pipeline([\n",
    "                ('selector', FeatureSelector(column=cat_col)),\n",
    "                ('ohe', OHEEncoder(key=cat_col))\n",
    "            ])\n",
    "    final_transformers.append((cat_col, cat_transformer))\n",
    "    \n",
    "for cont_col in continuous_columns:\n",
    "    cont_transformer = Pipeline([\n",
    "                ('selector', NumberSelector(key=cont_col)),\n",
    "                ('standard', StandardScaler())        \n",
    "            ])\n",
    "    final_transformers.append((cont_col, cont_transformer))"
   ]
  },
  {
   "cell_type": "markdown",
   "metadata": {},
   "source": [
    "Объединим все это в единый пайплайн"
   ]
  },
  {
   "cell_type": "code",
   "execution_count": 227,
   "metadata": {},
   "outputs": [],
   "source": [
    "from sklearn.pipeline import Pipeline\n",
    "from sklearn.pipeline import FeatureUnion\n",
    "\n",
    "feats = FeatureUnion(final_transformers)\n",
    "\n",
    "feature_processing = Pipeline([('feats', feats)])"
   ]
  },
  {
   "cell_type": "markdown",
   "metadata": {},
   "source": [
    "Теперь у нас есть пайплайн, который готовит признаки для моделирования."
   ]
  },
  {
   "cell_type": "markdown",
   "metadata": {},
   "source": [
    "#### Модель RandomForestClassifier из урока "
   ]
  },
  {
   "cell_type": "code",
   "execution_count": 228,
   "metadata": {},
   "outputs": [],
   "source": [
    "from sklearn.ensemble import RandomForestClassifier\n",
    "\n",
    "pipeline = Pipeline([\n",
    "    ('features',feats),\n",
    "    ('classifier', RandomForestClassifier(random_state = 42)),\n",
    "])"
   ]
  },
  {
   "cell_type": "code",
   "execution_count": 229,
   "metadata": {},
   "outputs": [
    {
     "data": {
      "text/plain": [
       "Pipeline(memory=None,\n",
       "         steps=[('features',\n",
       "                 FeatureUnion(n_jobs=None,\n",
       "                              transformer_list=[('Geography',\n",
       "                                                 Pipeline(memory=None,\n",
       "                                                          steps=[('selector',\n",
       "                                                                  FeatureSelector(column='Geography')),\n",
       "                                                                 ('ohe',\n",
       "                                                                  OHEEncoder(key='Geography'))],\n",
       "                                                          verbose=False)),\n",
       "                                                ('Gender',\n",
       "                                                 Pipeline(memory=None,\n",
       "                                                          steps=[('selector',\n",
       "                                                                  FeatureSelector(column='Gender')),\n",
       "                                                                 ('ohe',\n",
       "                                                                  OHEEncoder(key='Gender'))],\n",
       "                                                          verbos...\n",
       "                 RandomForestClassifier(bootstrap=True, ccp_alpha=0.0,\n",
       "                                        class_weight=None, criterion='gini',\n",
       "                                        max_depth=None, max_features='auto',\n",
       "                                        max_leaf_nodes=None, max_samples=None,\n",
       "                                        min_impurity_decrease=0.0,\n",
       "                                        min_impurity_split=None,\n",
       "                                        min_samples_leaf=1, min_samples_split=2,\n",
       "                                        min_weight_fraction_leaf=0.0,\n",
       "                                        n_estimators=100, n_jobs=None,\n",
       "                                        oob_score=False, random_state=42,\n",
       "                                        verbose=0, warm_start=False))],\n",
       "         verbose=False)"
      ]
     },
     "execution_count": 229,
     "metadata": {},
     "output_type": "execute_result"
    }
   ],
   "source": [
    "#обучим наш пайплайн\n",
    "pipeline.fit(X_train, y_train)"
   ]
  },
  {
   "cell_type": "code",
   "execution_count": 230,
   "metadata": {},
   "outputs": [
    {
     "data": {
      "text/plain": [
       "array([0.37, 0.26, 0.17, 0.02, 0.02, 0.67, 0.04, 0.12, 0.15, 0.75])"
      ]
     },
     "execution_count": 230,
     "metadata": {},
     "output_type": "execute_result"
    }
   ],
   "source": [
    "#наши прогнозы для тестовой выборки\n",
    "preds = pipeline.predict_proba(X_test)[:, 1]\n",
    "preds[:10]"
   ]
  },
  {
   "cell_type": "markdown",
   "metadata": {},
   "source": [
    "Также нам нужно от вероятностей перейти к меткам классов. Для этого нужно подобрать порог, после которого мы считаем, что объект можно отнести к классу 1 (если вероятность больше порога - размечаем объект как класс 1, если нет - класс 0)"
   ]
  },
  {
   "cell_type": "code",
   "execution_count": 231,
   "metadata": {},
   "outputs": [],
   "source": [
    "from sklearn.metrics import f1_score, roc_auc_score, precision_score, \\\n",
    "                            classification_report, precision_recall_curve, confusion_matrix"
   ]
  },
  {
   "cell_type": "code",
   "execution_count": 232,
   "metadata": {},
   "outputs": [
    {
     "name": "stdout",
     "output_type": "stream",
     "text": [
      "Best Threshold=0.380000, F-Score=0.641, Precision=0.654, Recall=0.629\n"
     ]
    }
   ],
   "source": [
    "precision, recall, thresholds = precision_recall_curve(y_test, preds)\n",
    "\n",
    "fscore = (2 * precision * recall) / (precision + recall)\n",
    "# locate the index of the largest f score\n",
    "ix = np.argmax(fscore)\n",
    "print('Best Threshold=%f, F-Score=%.3f, Precision=%.3f, Recall=%.3f' % (thresholds[ix], \n",
    "                                                                        fscore[ix],\n",
    "                                                                        precision[ix],\n",
    "                                                                        recall[ix]))"
   ]
  },
  {
   "cell_type": "markdown",
   "metadata": {},
   "source": [
    "Отрисуем матрицу ошибок"
   ]
  },
  {
   "cell_type": "code",
   "execution_count": 233,
   "metadata": {},
   "outputs": [],
   "source": [
    "def plot_confusion_matrix(cm, classes,\n",
    "                          normalize=False,\n",
    "                          title='Confusion matrix',\n",
    "                          cmap=plt.cm.Blues):\n",
    "    \"\"\"\n",
    "    This function prints and plots the confusion matrix.\n",
    "    Normalization can be applied by setting `normalize=True`.\n",
    "    \"\"\"\n",
    "    plt.imshow(cm, interpolation='nearest', cmap=cmap)\n",
    "    plt.title(title)\n",
    "    plt.colorbar()\n",
    "    tick_marks = np.arange(len(classes))\n",
    "    plt.xticks(tick_marks, classes, rotation=45)\n",
    "    plt.yticks(tick_marks, classes)\n",
    "\n",
    "    if normalize:\n",
    "        cm = cm.astype('float') / cm.sum(axis=1)[:, np.newaxis]\n",
    "        print(\"Normalized confusion matrix\")\n",
    "    else:\n",
    "        print('Confusion matrix, without normalization')\n",
    "\n",
    "    print(cm)\n",
    "\n",
    "    thresh = cm.max() / 2.\n",
    "    for i, j in itertools.product(range(cm.shape[0]), range(cm.shape[1])):\n",
    "        plt.text(j, i, cm[i, j],\n",
    "                 horizontalalignment=\"center\",\n",
    "                 color=\"white\" if cm[i, j] > thresh else \"black\")\n",
    "\n",
    "    plt.tight_layout()\n",
    "    plt.ylabel('True label')\n",
    "    plt.xlabel('Predicted label')"
   ]
  },
  {
   "cell_type": "code",
   "execution_count": 234,
   "metadata": {},
   "outputs": [
    {
     "name": "stdout",
     "output_type": "stream",
     "text": [
      "Confusion matrix, without normalization\n",
      "[[1833  158]\n",
      " [ 195  314]]\n"
     ]
    },
    {
     "data": {
      "image/png": "[encoded data removed]",
      "text/plain": [
       "<Figure size 720x576 with 2 Axes>"
      ]
     },
     "metadata": {
      "needs_background": "light"
     },
     "output_type": "display_data"
    }
   ],
   "source": [
    "#мы уже нашли ранее \"оптимальный\" порог, когда максимизировали f_score\n",
    "font = {'size' : 15}\n",
    "\n",
    "plt.rc('font', **font)\n",
    "\n",
    "cnf_matrix = confusion_matrix(y_test, preds>thresholds[ix])\n",
    "plt.figure(figsize=(10, 8))\n",
    "plot_confusion_matrix(cnf_matrix, classes=['NonChurn', 'Churn'],\n",
    "                      title='Confusion matrix')\n",
    "plt.savefig(\"conf_matrix.png\")\n",
    "plt.show()"
   ]
  },
  {
   "cell_type": "code",
   "execution_count": 235,
   "metadata": {},
   "outputs": [],
   "source": [
    "TP = cnf_matrix[0][0]\n",
    "FP = cnf_matrix[0][1]\n",
    "FN = cnf_matrix[1][0]\n",
    "TN = cnf_matrix[1][1]"
   ]
  },
  {
   "cell_type": "markdown",
   "metadata": {},
   "source": [
    "#### Вопрос 1: объясните своими словами смысл метрик Precison, Recall *\n",
    "1. Какова их взаимосвязь и как с ними связан порог вероятности? \n",
    "2. Можно ли подобрать порог так, что recall будет равен 1? Что при этом будет с precision\n",
    "3. Аналогичный вопрос про precision"
   ]
  },
  {
   "cell_type": "markdown",
   "metadata": {},
   "source": [
    "***Ответ:***\n",
    "\n",
    "1.Precision (точность) отражает какой процент объектов, отнесенных к основному классу, действительно являются таковыми. \n",
    "\n",
    "Recall (полнота) отражает какой процент объектов основного класса был обнаружен алгоритмом.\n",
    "\n",
    "Precision = TP / (TP + FP)\n",
    "\n",
    "Recall = TP / (TP + FN)\n",
    "\n",
    "Между Precision и Recall имеется обратная зависимость. С ростом порога вероятности растет Precision, с уменьшением порога вероятности растет Recall.\n",
    "\n",
    "2.Recall будет равен 1 при FN=0. Тогда порог вероятности должен быть минимальным. В этом случае все объекты основного класса правильно предсказаны. Отсутствует ошибка 2-го рода.\n",
    "\n",
    "3.Precision будет равен 1 при FP=0. Тогда порог вероятности должен быть максимальным. В этом случае все предсказанные объекты основного класса фактически должны относиться к основному классу. Отсутствует ошибка 1-го рода."
   ]
  },
  {
   "cell_type": "markdown",
   "metadata": {},
   "source": [
    "<b>Вопрос 2: предположим, что на удержание одного пользователя у нас уйдет 1 доллар. При этом средняя ожидаемая прибыль с каждого TP (true positive) - 2 доллара. Оцените качество модели выше с учетом этих данных и ответьте на вопрос, является ли она потенциально экономически целесообразной?</b>"
   ]
  },
  {
   "cell_type": "markdown",
   "metadata": {},
   "source": [
    "***Ответ:***"
   ]
  },
  {
   "cell_type": "code",
   "execution_count": 236,
   "metadata": {},
   "outputs": [
    {
     "data": {
      "text/plain": [
       "(1833, 158, 195, 314)"
      ]
     },
     "execution_count": 236,
     "metadata": {},
     "output_type": "execute_result"
    }
   ],
   "source": [
    "TP, FP, FN, TN"
   ]
  },
  {
   "cell_type": "code",
   "execution_count": 237,
   "metadata": {},
   "outputs": [
    {
     "name": "stdout",
     "output_type": "stream",
     "text": [
      "На отложенной выборке из 2500 пользователей прибыль (убыток) составляет $ 1675\n"
     ]
    }
   ],
   "source": [
    "print(f'На отложенной выборке из {y_test.shape[0]} пользователей прибыль (убыток) составляет $ {2 * TP - (TP + FP)}')"
   ]
  },
  {
   "cell_type": "markdown",
   "metadata": {},
   "source": [
    "***Вывод:*** модель является потенциально экономически целесообразной."
   ]
  },
  {
   "cell_type": "markdown",
   "metadata": {},
   "source": [
    "<b>Задание 1. Для нашего пайплайна (Case1) поэкспериментировать с разными моделями: 1 - бустинг, 2 - логистическая регрессия (не забудьте здесь добавить в cont_transformer стандартизацию - нормирование вещественных признаков)<b>"
   ]
  },
  {
   "cell_type": "code",
   "execution_count": 238,
   "metadata": {},
   "outputs": [],
   "source": [
    "from catboost import CatBoostClassifier\n",
    "from sklearn.linear_model import LogisticRegression\n",
    "from lightgbm import LGBMClassifier\n",
    "# ------------------------------------------------------------------\n",
    "frozen_params = {\n",
    "    'eval_metric': 'F1',\n",
    "    'auto_class_weights': 'Balanced',\n",
    "    'silent': True,\n",
    "    'one_hot_max_size': 20,\n",
    "    'early_stopping_rounds': 50,\n",
    "    'boosting_type': 'Ordered',\n",
    "    'allow_writing_files': False\n",
    "}\n",
    "\n",
    "classifier_1 = Pipeline([\n",
    "    ('features',feats),\n",
    "    ('classifier', CatBoostClassifier(\n",
    "    **frozen_params,\n",
    "    depth=4,\n",
    "    iterations=400,\n",
    "    learning_rate=0.1,\n",
    "    l2_leaf_reg=2.5,\n",
    "    bagging_temperature=1.5\n",
    ")),\n",
    "])\n",
    "# ------------------------------------------------------------------\n",
    "classifier_2 = Pipeline([\n",
    "    ('features',feats),\n",
    "    ('classifier', LogisticRegression(random_state = 42)),\n",
    "])\n",
    "# ------------------------------------------------------------------\n",
    "classifier_3 = Pipeline([\n",
    "    ('features',feats),\n",
    "    ('classifier', LGBMClassifier(random_state = 42, silent=True)),\n",
    "])"
   ]
  },
  {
   "cell_type": "markdown",
   "metadata": {},
   "source": [
    "Обучим модели"
   ]
  },
  {
   "cell_type": "code",
   "execution_count": 239,
   "metadata": {},
   "outputs": [],
   "source": [
    "# Функция обучения модели и расчета метрик\n",
    "def get_metrics(classifier):\n",
    "    #запустим кросс-валидацию\n",
    "#    cv_scores = cross_val_score(classifier, X_train, y_train, cv=16, scoring='roc_auc')\n",
    "#    cv_score = np.mean(cv_scores)\n",
    "#    cv_score_std = np.std(cv_scores)\n",
    "\n",
    "    #обучим пайплайн на всем тренировочном датасете\n",
    "    classifier.fit(X_train, y_train)\n",
    "    y_score = classifier.predict_proba(X_test)[:, 1]\n",
    "    \n",
    "    # расчтаем Precision, Recall, F_score, Roc auc\n",
    "    b = 1\n",
    "    precision, recall, thresholds = precision_recall_curve(y_test.values, y_score)\n",
    "    fscore = (1 + b**2) * (precision * recall) / (b**2 * precision + recall)\n",
    "    roc_auc = roc_auc_score(y_test, y_score)\n",
    "    ix = np.argmax(fscore)\n",
    "    \n",
    "    # рассчитаем confusion matrix\n",
    "#    tn, fp, fn, tp = confusion_matrix(y_test, preds > thresholds[ix]).ravel()\n",
    "    \n",
    "    cnf_matrix = confusion_matrix(y_test, preds > thresholds[ix])\n",
    "     \n",
    "    return roc_auc, precision[ix], recall[ix], fscore[ix], thresholds[ix], cnf_matrix"
   ]
  },
  {
   "cell_type": "code",
   "execution_count": 240,
   "metadata": {},
   "outputs": [],
   "source": [
    "metrics = {'CatBoostClassifier': classifier_1, \n",
    "            'LogisticRegression': classifier_2,\n",
    "            'LGBMClassifier': classifier_3\n",
    "          }\n",
    "info = pd.DataFrame(columns=metrics.keys())"
   ]
  },
  {
   "cell_type": "code",
   "execution_count": 241,
   "metadata": {
    "scrolled": true
   },
   "outputs": [
    {
     "name": "stdout",
     "output_type": "stream",
     "text": [
      "CatBoostClassifier Pipeline(memory=None,\n",
      "         steps=[('features',\n",
      "                 FeatureUnion(n_jobs=None,\n",
      "                              transformer_list=[('Geography',\n",
      "                                                 Pipeline(memory=None,\n",
      "                                                          steps=[('selector',\n",
      "                                                                  FeatureSelector(column='Geography')),\n",
      "                                                                 ('ohe',\n",
      "                                                                  OHEEncoder(key='Geography'))],\n",
      "                                                          verbose=False)),\n",
      "                                                ('Gender',\n",
      "                                                 Pipeline(memory=None,\n",
      "                                                          steps=[('selector',\n",
      "                                                                  FeatureSelector(column='Gender')),\n",
      "                                                                 ('ohe',\n",
      "                                                                  OHEEncoder(key='Gender'))],\n",
      "                                                          verbos...\n",
      "                                                                                 with_mean=True,\n",
      "                                                                                 with_std=True))],\n",
      "                                                          verbose=False)),\n",
      "                                                ('EstimatedSalary',\n",
      "                                                 Pipeline(memory=None,\n",
      "                                                          steps=[('selector',\n",
      "                                                                  NumberSelector(key='EstimatedSalary')),\n",
      "                                                                 ('standard',\n",
      "                                                                  StandardScaler(copy=True,\n",
      "                                                                                 with_mean=True,\n",
      "                                                                                 with_std=True))],\n",
      "                                                          verbose=False))],\n",
      "                              transformer_weights=None, verbose=False)),\n",
      "                ('classifier',\n",
      "                 <catboost.core.CatBoostClassifier object at 0x000001E1C02E08C8>)],\n",
      "         verbose=False)\n",
      "LogisticRegression Pipeline(memory=None,\n",
      "         steps=[('features',\n",
      "                 FeatureUnion(n_jobs=None,\n",
      "                              transformer_list=[('Geography',\n",
      "                                                 Pipeline(memory=None,\n",
      "                                                          steps=[('selector',\n",
      "                                                                  FeatureSelector(column='Geography')),\n",
      "                                                                 ('ohe',\n",
      "                                                                  OHEEncoder(key='Geography'))],\n",
      "                                                          verbose=False)),\n",
      "                                                ('Gender',\n",
      "                                                 Pipeline(memory=None,\n",
      "                                                          steps=[('selector',\n",
      "                                                                  FeatureSelector(column='Gender')),\n",
      "                                                                 ('ohe',\n",
      "                                                                  OHEEncoder(key='Gender'))],\n",
      "                                                          verbos...\n",
      "                                                                                 with_mean=True,\n",
      "                                                                                 with_std=True))],\n",
      "                                                          verbose=False))],\n",
      "                              transformer_weights=None, verbose=False)),\n",
      "                ('classifier',\n",
      "                 LogisticRegression(C=1.0, class_weight=None, dual=False,\n",
      "                                    fit_intercept=True, intercept_scaling=1,\n",
      "                                    l1_ratio=None, max_iter=100,\n",
      "                                    multi_class='auto', n_jobs=None,\n",
      "                                    penalty='l2', random_state=42,\n",
      "                                    solver='lbfgs', tol=0.0001, verbose=0,\n",
      "                                    warm_start=False))],\n",
      "         verbose=False)\n",
      "LGBMClassifier Pipeline(memory=None,\n",
      "         steps=[('features',\n",
      "                 FeatureUnion(n_jobs=None,\n",
      "                              transformer_list=[('Geography',\n",
      "                                                 Pipeline(memory=None,\n",
      "                                                          steps=[('selector',\n",
      "                                                                  FeatureSelector(column='Geography')),\n",
      "                                                                 ('ohe',\n",
      "                                                                  OHEEncoder(key='Geography'))],\n",
      "                                                          verbose=False)),\n",
      "                                                ('Gender',\n",
      "                                                 Pipeline(memory=None,\n",
      "                                                          steps=[('selector',\n",
      "                                                                  FeatureSelector(column='Gender')),\n",
      "                                                                 ('ohe',\n",
      "                                                                  OHEEncoder(key='Gender'))],\n",
      "                                                          verbos...\n",
      "                 LGBMClassifier(boosting_type='gbdt', class_weight=None,\n",
      "                                colsample_bytree=1.0, importance_type='split',\n",
      "                                learning_rate=0.1, max_depth=-1,\n",
      "                                min_child_samples=20, min_child_weight=0.001,\n",
      "                                min_split_gain=0.0, n_estimators=100, n_jobs=-1,\n",
      "                                num_leaves=31, objective=None, random_state=42,\n",
      "                                reg_alpha=0.0, reg_lambda=0.0, silent=True,\n",
      "                                subsample=1.0, subsample_for_bin=200000,\n",
      "                                subsample_freq=0))],\n",
      "         verbose=False)\n",
      "Wall time: 5.3 s\n"
     ]
    }
   ],
   "source": [
    "%%time\n",
    "\n",
    "for metric, value in metrics.items():\n",
    "    print(metric, value)\n",
    "    roc_auc, precision, recall, fscore, thresholds, cnf_matrix = get_metrics(value)\n",
    "    info.loc[f'roc_auc', metric] = roc_auc\n",
    "    info.loc[f'precision', metric] = precision\n",
    "    info.loc[f'recall', metric] = recall\n",
    "    info.loc[f'fscore', metric] = fscore\n",
    "    info.loc[f'thresholds', metric] = thresholds\n",
    "    info.loc[f'TP', metric] = cnf_matrix[0][0]\n",
    "    info.loc[f'FP', metric] = cnf_matrix[0][1]\n",
    "    info.loc[f'TN', metric] = cnf_matrix[1][0]\n",
    "    info.loc[f'FN', metric] = cnf_matrix[1][1]"
   ]
  },
  {
   "cell_type": "markdown",
   "metadata": {},
   "source": [
    "<b>Задание 2. Отобрать лучшую модель по метрикам (кстати, какая по вашему мнению здесь наиболее подходящая DS-метрика)<b>"
   ]
  },
  {
   "cell_type": "code",
   "execution_count": 242,
   "metadata": {},
   "outputs": [
    {
     "data": {
      "text/html": [
       "<div>\n",
       "<style scoped>\n",
       "    .dataframe tbody tr th:only-of-type {\n",
       "        vertical-align: middle;\n",
       "    }\n",
       "\n",
       "    .dataframe tbody tr th {\n",
       "        vertical-align: top;\n",
       "    }\n",
       "\n",
       "    .dataframe thead th {\n",
       "        text-align: right;\n",
       "    }\n",
       "</style>\n",
       "<table border=\"1\" class=\"dataframe\">\n",
       "  <thead>\n",
       "    <tr style=\"text-align: right;\">\n",
       "      <th></th>\n",
       "      <th>CatBoostClassifier</th>\n",
       "      <th>LogisticRegression</th>\n",
       "      <th>LGBMClassifier</th>\n",
       "    </tr>\n",
       "  </thead>\n",
       "  <tbody>\n",
       "    <tr>\n",
       "      <th>roc_auc</th>\n",
       "      <td>0.877727</td>\n",
       "      <td>0.772077</td>\n",
       "      <td>0.870576</td>\n",
       "    </tr>\n",
       "    <tr>\n",
       "      <th>precision</th>\n",
       "      <td>0.636882</td>\n",
       "      <td>0.4624</td>\n",
       "      <td>0.660643</td>\n",
       "    </tr>\n",
       "    <tr>\n",
       "      <th>recall</th>\n",
       "      <td>0.658153</td>\n",
       "      <td>0.56778</td>\n",
       "      <td>0.646365</td>\n",
       "    </tr>\n",
       "    <tr>\n",
       "      <th>fscore</th>\n",
       "      <td>0.647343</td>\n",
       "      <td>0.5097</td>\n",
       "      <td>0.653426</td>\n",
       "    </tr>\n",
       "    <tr>\n",
       "      <th>thresholds</th>\n",
       "      <td>0.659165</td>\n",
       "      <td>0.289522</td>\n",
       "      <td>0.371377</td>\n",
       "    </tr>\n",
       "    <tr>\n",
       "      <th>TP</th>\n",
       "      <td>1970</td>\n",
       "      <td>1688</td>\n",
       "      <td>1822</td>\n",
       "    </tr>\n",
       "    <tr>\n",
       "      <th>FP</th>\n",
       "      <td>21</td>\n",
       "      <td>303</td>\n",
       "      <td>169</td>\n",
       "    </tr>\n",
       "    <tr>\n",
       "      <th>TN</th>\n",
       "      <td>328</td>\n",
       "      <td>145</td>\n",
       "      <td>189</td>\n",
       "    </tr>\n",
       "    <tr>\n",
       "      <th>FN</th>\n",
       "      <td>181</td>\n",
       "      <td>364</td>\n",
       "      <td>320</td>\n",
       "    </tr>\n",
       "  </tbody>\n",
       "</table>\n",
       "</div>"
      ],
      "text/plain": [
       "           CatBoostClassifier LogisticRegression LGBMClassifier\n",
       "roc_auc              0.877727           0.772077       0.870576\n",
       "precision            0.636882             0.4624       0.660643\n",
       "recall               0.658153            0.56778       0.646365\n",
       "fscore               0.647343             0.5097       0.653426\n",
       "thresholds           0.659165           0.289522       0.371377\n",
       "TP                       1970               1688           1822\n",
       "FP                         21                303            169\n",
       "TN                        328                145            189\n",
       "FN                        181                364            320"
      ]
     },
     "execution_count": 242,
     "metadata": {},
     "output_type": "execute_result"
    }
   ],
   "source": [
    "info"
   ]
  },
  {
   "cell_type": "markdown",
   "metadata": {},
   "source": [
    "***Вывод:*** \n",
    "Наиболее подходящей DS-метрикой является Precision = TP / (TP + FP), исходя из оценки потенциальной экономической целесообразности по формуле \n",
    "\n",
    "profit = TP * 2 - (TP + FP) * 1 \n",
    "\n",
    "Максимальная прибыль будет достигаться при максимальном значении TP и минимальном значении (TP+FP). \n",
    "\n",
    "По метрике Precision лучшей моделью является LGBMClassifier."
   ]
  },
  {
   "cell_type": "markdown",
   "metadata": {},
   "source": [
    "<b>Задание 3. Для отобранной модели (на отложенной выборке) сделать оценку экономической эффективности при тех же вводных, как в вопросе 2 (1 доллар на привлечение, 2 доллара - с каждого правильно классифицированного (True Positive) удержанного). (подсказка) нужно посчитать FP/TP/FN/TN для выбранного оптимального порога вероятности и посчитать выручку и траты.<b>"
   ]
  },
  {
   "cell_type": "code",
   "execution_count": 243,
   "metadata": {},
   "outputs": [
    {
     "data": {
      "text/plain": [
       "(1822, 169, 189, 320)"
      ]
     },
     "execution_count": 243,
     "metadata": {},
     "output_type": "execute_result"
    }
   ],
   "source": [
    "TP=info['LGBMClassifier'][5]\n",
    "FP=info['LGBMClassifier'][6]\n",
    "TN=info['LGBMClassifier'][7]\n",
    "FN=info['LGBMClassifier'][8]\n",
    "TP, FP, TN, FN"
   ]
  },
  {
   "cell_type": "code",
   "execution_count": 244,
   "metadata": {},
   "outputs": [
    {
     "name": "stdout",
     "output_type": "stream",
     "text": [
      "На отложенной выборке из 2500 пользователей прибыль (убыток) составляет $ 1653\n"
     ]
    }
   ],
   "source": [
    "print(f'На отложенной выборке из {y_test.shape[0]} пользователей прибыль (убыток) составляет $ {2 * TP - (TP + FP)}')"
   ]
  },
  {
   "cell_type": "markdown",
   "metadata": {},
   "source": [
    "<b>Задание 4. (опционально) Провести подбор гиперпараметров лучшей модели по итогам 2-3<b>"
   ]
  },
  {
   "cell_type": "markdown",
   "metadata": {},
   "source": [
    "Создаем сетку с параметрами"
   ]
  },
  {
   "cell_type": "code",
   "execution_count": 245,
   "metadata": {},
   "outputs": [],
   "source": [
    "from sklearn.model_selection import GridSearchCV\n",
    "\n",
    "params={'classifier__num_leaves':[10, 15, 20],\n",
    "        'classifier__lambda_l2':[200, 250, 300],\n",
    "        'classifier__learning_rate':[0.01 , 0.05, 0.1],\n",
    "        'classifier__n_jobs':[-1],\n",
    "        'classifier__n_estimators':[300, 500, 1000, 2000],\n",
    "        }"
   ]
  },
  {
   "cell_type": "markdown",
   "metadata": {},
   "source": [
    "Запускаем перебор"
   ]
  },
  {
   "cell_type": "code",
   "execution_count": 246,
   "metadata": {},
   "outputs": [
    {
     "name": "stdout",
     "output_type": "stream",
     "text": [
      "[LightGBM] [Warning] lambda_l2 is set=200, reg_lambda=0.0 will be ignored. Current value: lambda_l2=200\n",
      "[LightGBM] [Warning] lambda_l2 is set=200, reg_lambda=0.0 will be ignored. Current value: lambda_l2=200\n",
      "[LightGBM] [Warning] lambda_l2 is set=200, reg_lambda=0.0 will be ignored. Current value: lambda_l2=200\n",
      "[LightGBM] [Warning] lambda_l2 is set=200, reg_lambda=0.0 will be ignored. Current value: lambda_l2=200\n",
      "[LightGBM] [Warning] lambda_l2 is set=200, reg_lambda=0.0 will be ignored. Current value: lambda_l2=200\n",
      "[LightGBM] [Warning] lambda_l2 is set=200, reg_lambda=0.0 will be ignored. Current value: lambda_l2=200\n",
      "[LightGBM] [Warning] lambda_l2 is set=200, reg_lambda=0.0 will be ignored. Current value: lambda_l2=200\n",
      "[LightGBM] [Warning] lambda_l2 is set=200, reg_lambda=0.0 will be ignored. Current value: lambda_l2=200\n",
      "[LightGBM] [Warning] lambda_l2 is set=200, reg_lambda=0.0 will be ignored. Current value: lambda_l2=200\n",
      "[LightGBM] [Warning] lambda_l2 is set=200, reg_lambda=0.0 will be ignored. Current value: lambda_l2=200\n",
      "[LightGBM] [Warning] lambda_l2 is set=200, reg_lambda=0.0 will be ignored. Current value: lambda_l2=200\n",
      "[LightGBM] [Warning] lambda_l2 is set=200, reg_lambda=0.0 will be ignored. Current value: lambda_l2=200\n",
      "[LightGBM] [Warning] lambda_l2 is set=200, reg_lambda=0.0 will be ignored. Current value: lambda_l2=200\n",
      "[LightGBM] [Warning] lambda_l2 is set=200, reg_lambda=0.0 will be ignored. Current value: lambda_l2=200\n",
      "[LightGBM] [Warning] lambda_l2 is set=200, reg_lambda=0.0 will be ignored. Current value: lambda_l2=200\n",
      "[LightGBM] [Warning] lambda_l2 is set=200, reg_lambda=0.0 will be ignored. Current value: lambda_l2=200\n",
      "[LightGBM] [Warning] lambda_l2 is set=200, reg_lambda=0.0 will be ignored. Current value: lambda_l2=200\n",
      "[LightGBM] [Warning] lambda_l2 is set=200, reg_lambda=0.0 will be ignored. Current value: lambda_l2=200\n",
      "[LightGBM] [Warning] lambda_l2 is set=200, reg_lambda=0.0 will be ignored. Current value: lambda_l2=200\n",
      "[LightGBM] [Warning] lambda_l2 is set=200, reg_lambda=0.0 will be ignored. Current value: lambda_l2=200\n",
      "[LightGBM] [Warning] lambda_l2 is set=200, reg_lambda=0.0 will be ignored. Current value: lambda_l2=200\n",
      "[LightGBM] [Warning] lambda_l2 is set=200, reg_lambda=0.0 will be ignored. Current value: lambda_l2=200\n",
      "[LightGBM] [Warning] lambda_l2 is set=200, reg_lambda=0.0 will be ignored. Current value: lambda_l2=200\n",
      "[LightGBM] [Warning] lambda_l2 is set=200, reg_lambda=0.0 will be ignored. Current value: lambda_l2=200\n",
      "[LightGBM] [Warning] lambda_l2 is set=200, reg_lambda=0.0 will be ignored. Current value: lambda_l2=200\n",
      "[LightGBM] [Warning] lambda_l2 is set=200, reg_lambda=0.0 will be ignored. Current value: lambda_l2=200\n",
      "[LightGBM] [Warning] lambda_l2 is set=200, reg_lambda=0.0 will be ignored. Current value: lambda_l2=200\n",
      "[LightGBM] [Warning] lambda_l2 is set=200, reg_lambda=0.0 will be ignored. Current value: lambda_l2=200\n",
      "[LightGBM] [Warning] lambda_l2 is set=200, reg_lambda=0.0 will be ignored. Current value: lambda_l2=200\n",
      "[LightGBM] [Warning] lambda_l2 is set=200, reg_lambda=0.0 will be ignored. Current value: lambda_l2=200\n",
      "[LightGBM] [Warning] lambda_l2 is set=200, reg_lambda=0.0 will be ignored. Current value: lambda_l2=200\n",
      "[LightGBM] [Warning] lambda_l2 is set=200, reg_lambda=0.0 will be ignored. Current value: lambda_l2=200\n",
      "[LightGBM] [Warning] lambda_l2 is set=200, reg_lambda=0.0 will be ignored. Current value: lambda_l2=200\n",
      "[LightGBM] [Warning] lambda_l2 is set=200, reg_lambda=0.0 will be ignored. Current value: lambda_l2=200\n",
      "[LightGBM] [Warning] lambda_l2 is set=200, reg_lambda=0.0 will be ignored. Current value: lambda_l2=200\n",
      "[LightGBM] [Warning] lambda_l2 is set=200, reg_lambda=0.0 will be ignored. Current value: lambda_l2=200\n",
      "[LightGBM] [Warning] lambda_l2 is set=200, reg_lambda=0.0 will be ignored. Current value: lambda_l2=200\n",
      "[LightGBM] [Warning] lambda_l2 is set=200, reg_lambda=0.0 will be ignored. Current value: lambda_l2=200\n",
      "[LightGBM] [Warning] lambda_l2 is set=200, reg_lambda=0.0 will be ignored. Current value: lambda_l2=200\n",
      "[LightGBM] [Warning] lambda_l2 is set=200, reg_lambda=0.0 will be ignored. Current value: lambda_l2=200\n",
      "[LightGBM] [Warning] lambda_l2 is set=200, reg_lambda=0.0 will be ignored. Current value: lambda_l2=200\n",
      "[LightGBM] [Warning] lambda_l2 is set=200, reg_lambda=0.0 will be ignored. Current value: lambda_l2=200\n",
      "[LightGBM] [Warning] lambda_l2 is set=200, reg_lambda=0.0 will be ignored. Current value: lambda_l2=200\n",
      "[LightGBM] [Warning] lambda_l2 is set=200, reg_lambda=0.0 will be ignored. Current value: lambda_l2=200\n",
      "[LightGBM] [Warning] lambda_l2 is set=200, reg_lambda=0.0 will be ignored. Current value: lambda_l2=200\n",
      "[LightGBM] [Warning] lambda_l2 is set=200, reg_lambda=0.0 will be ignored. Current value: lambda_l2=200\n",
      "[LightGBM] [Warning] lambda_l2 is set=200, reg_lambda=0.0 will be ignored. Current value: lambda_l2=200\n",
      "[LightGBM] [Warning] lambda_l2 is set=200, reg_lambda=0.0 will be ignored. Current value: lambda_l2=200\n",
      "[LightGBM] [Warning] lambda_l2 is set=200, reg_lambda=0.0 will be ignored. Current value: lambda_l2=200\n",
      "[LightGBM] [Warning] lambda_l2 is set=200, reg_lambda=0.0 will be ignored. Current value: lambda_l2=200\n",
      "[LightGBM] [Warning] lambda_l2 is set=200, reg_lambda=0.0 will be ignored. Current value: lambda_l2=200\n",
      "[LightGBM] [Warning] lambda_l2 is set=200, reg_lambda=0.0 will be ignored. Current value: lambda_l2=200\n",
      "[LightGBM] [Warning] lambda_l2 is set=200, reg_lambda=0.0 will be ignored. Current value: lambda_l2=200\n",
      "[LightGBM] [Warning] lambda_l2 is set=200, reg_lambda=0.0 will be ignored. Current value: lambda_l2=200\n",
      "[LightGBM] [Warning] lambda_l2 is set=200, reg_lambda=0.0 will be ignored. Current value: lambda_l2=200\n",
      "[LightGBM] [Warning] lambda_l2 is set=200, reg_lambda=0.0 will be ignored. Current value: lambda_l2=200\n",
      "[LightGBM] [Warning] lambda_l2 is set=200, reg_lambda=0.0 will be ignored. Current value: lambda_l2=200\n",
      "[LightGBM] [Warning] lambda_l2 is set=200, reg_lambda=0.0 will be ignored. Current value: lambda_l2=200\n",
      "[LightGBM] [Warning] lambda_l2 is set=200, reg_lambda=0.0 will be ignored. Current value: lambda_l2=200\n",
      "[LightGBM] [Warning] lambda_l2 is set=200, reg_lambda=0.0 will be ignored. Current value: lambda_l2=200\n",
      "[LightGBM] [Warning] lambda_l2 is set=200, reg_lambda=0.0 will be ignored. Current value: lambda_l2=200\n",
      "[LightGBM] [Warning] lambda_l2 is set=200, reg_lambda=0.0 will be ignored. Current value: lambda_l2=200\n",
      "[LightGBM] [Warning] lambda_l2 is set=200, reg_lambda=0.0 will be ignored. Current value: lambda_l2=200\n",
      "[LightGBM] [Warning] lambda_l2 is set=200, reg_lambda=0.0 will be ignored. Current value: lambda_l2=200\n",
      "[LightGBM] [Warning] lambda_l2 is set=200, reg_lambda=0.0 will be ignored. Current value: lambda_l2=200\n",
      "[LightGBM] [Warning] lambda_l2 is set=200, reg_lambda=0.0 will be ignored. Current value: lambda_l2=200\n",
      "[LightGBM] [Warning] lambda_l2 is set=200, reg_lambda=0.0 will be ignored. Current value: lambda_l2=200\n",
      "[LightGBM] [Warning] lambda_l2 is set=200, reg_lambda=0.0 will be ignored. Current value: lambda_l2=200\n",
      "[LightGBM] [Warning] lambda_l2 is set=200, reg_lambda=0.0 will be ignored. Current value: lambda_l2=200\n",
      "[LightGBM] [Warning] lambda_l2 is set=200, reg_lambda=0.0 will be ignored. Current value: lambda_l2=200\n",
      "[LightGBM] [Warning] lambda_l2 is set=200, reg_lambda=0.0 will be ignored. Current value: lambda_l2=200\n",
      "[LightGBM] [Warning] lambda_l2 is set=200, reg_lambda=0.0 will be ignored. Current value: lambda_l2=200\n",
      "[LightGBM] [Warning] lambda_l2 is set=200, reg_lambda=0.0 will be ignored. Current value: lambda_l2=200\n",
      "[LightGBM] [Warning] lambda_l2 is set=200, reg_lambda=0.0 will be ignored. Current value: lambda_l2=200\n",
      "[LightGBM] [Warning] lambda_l2 is set=200, reg_lambda=0.0 will be ignored. Current value: lambda_l2=200\n",
      "[LightGBM] [Warning] lambda_l2 is set=200, reg_lambda=0.0 will be ignored. Current value: lambda_l2=200\n",
      "[LightGBM] [Warning] lambda_l2 is set=200, reg_lambda=0.0 will be ignored. Current value: lambda_l2=200\n",
      "[LightGBM] [Warning] lambda_l2 is set=200, reg_lambda=0.0 will be ignored. Current value: lambda_l2=200\n",
      "[LightGBM] [Warning] lambda_l2 is set=200, reg_lambda=0.0 will be ignored. Current value: lambda_l2=200\n"
     ]
    },
    {
     "name": "stdout",
     "output_type": "stream",
     "text": [
      "[LightGBM] [Warning] lambda_l2 is set=200, reg_lambda=0.0 will be ignored. Current value: lambda_l2=200\n",
      "[LightGBM] [Warning] lambda_l2 is set=200, reg_lambda=0.0 will be ignored. Current value: lambda_l2=200\n",
      "[LightGBM] [Warning] lambda_l2 is set=200, reg_lambda=0.0 will be ignored. Current value: lambda_l2=200\n",
      "[LightGBM] [Warning] lambda_l2 is set=200, reg_lambda=0.0 will be ignored. Current value: lambda_l2=200\n",
      "[LightGBM] [Warning] lambda_l2 is set=200, reg_lambda=0.0 will be ignored. Current value: lambda_l2=200\n",
      "[LightGBM] [Warning] lambda_l2 is set=200, reg_lambda=0.0 will be ignored. Current value: lambda_l2=200\n",
      "[LightGBM] [Warning] lambda_l2 is set=200, reg_lambda=0.0 will be ignored. Current value: lambda_l2=200\n",
      "[LightGBM] [Warning] lambda_l2 is set=200, reg_lambda=0.0 will be ignored. Current value: lambda_l2=200\n",
      "[LightGBM] [Warning] lambda_l2 is set=200, reg_lambda=0.0 will be ignored. Current value: lambda_l2=200\n",
      "[LightGBM] [Warning] lambda_l2 is set=200, reg_lambda=0.0 will be ignored. Current value: lambda_l2=200\n",
      "[LightGBM] [Warning] lambda_l2 is set=200, reg_lambda=0.0 will be ignored. Current value: lambda_l2=200\n",
      "[LightGBM] [Warning] lambda_l2 is set=200, reg_lambda=0.0 will be ignored. Current value: lambda_l2=200\n",
      "[LightGBM] [Warning] lambda_l2 is set=200, reg_lambda=0.0 will be ignored. Current value: lambda_l2=200\n",
      "[LightGBM] [Warning] lambda_l2 is set=200, reg_lambda=0.0 will be ignored. Current value: lambda_l2=200\n",
      "[LightGBM] [Warning] lambda_l2 is set=200, reg_lambda=0.0 will be ignored. Current value: lambda_l2=200\n",
      "[LightGBM] [Warning] lambda_l2 is set=200, reg_lambda=0.0 will be ignored. Current value: lambda_l2=200\n",
      "[LightGBM] [Warning] lambda_l2 is set=200, reg_lambda=0.0 will be ignored. Current value: lambda_l2=200\n",
      "[LightGBM] [Warning] lambda_l2 is set=200, reg_lambda=0.0 will be ignored. Current value: lambda_l2=200\n",
      "[LightGBM] [Warning] lambda_l2 is set=200, reg_lambda=0.0 will be ignored. Current value: lambda_l2=200\n",
      "[LightGBM] [Warning] lambda_l2 is set=200, reg_lambda=0.0 will be ignored. Current value: lambda_l2=200\n",
      "[LightGBM] [Warning] lambda_l2 is set=200, reg_lambda=0.0 will be ignored. Current value: lambda_l2=200\n",
      "[LightGBM] [Warning] lambda_l2 is set=200, reg_lambda=0.0 will be ignored. Current value: lambda_l2=200\n",
      "[LightGBM] [Warning] lambda_l2 is set=200, reg_lambda=0.0 will be ignored. Current value: lambda_l2=200\n",
      "[LightGBM] [Warning] lambda_l2 is set=200, reg_lambda=0.0 will be ignored. Current value: lambda_l2=200\n",
      "[LightGBM] [Warning] lambda_l2 is set=200, reg_lambda=0.0 will be ignored. Current value: lambda_l2=200\n",
      "[LightGBM] [Warning] lambda_l2 is set=200, reg_lambda=0.0 will be ignored. Current value: lambda_l2=200\n",
      "[LightGBM] [Warning] lambda_l2 is set=200, reg_lambda=0.0 will be ignored. Current value: lambda_l2=200\n",
      "[LightGBM] [Warning] lambda_l2 is set=200, reg_lambda=0.0 will be ignored. Current value: lambda_l2=200\n",
      "[LightGBM] [Warning] lambda_l2 is set=200, reg_lambda=0.0 will be ignored. Current value: lambda_l2=200\n",
      "[LightGBM] [Warning] lambda_l2 is set=200, reg_lambda=0.0 will be ignored. Current value: lambda_l2=200\n",
      "[LightGBM] [Warning] lambda_l2 is set=200, reg_lambda=0.0 will be ignored. Current value: lambda_l2=200\n",
      "[LightGBM] [Warning] lambda_l2 is set=200, reg_lambda=0.0 will be ignored. Current value: lambda_l2=200\n",
      "[LightGBM] [Warning] lambda_l2 is set=200, reg_lambda=0.0 will be ignored. Current value: lambda_l2=200\n",
      "[LightGBM] [Warning] lambda_l2 is set=200, reg_lambda=0.0 will be ignored. Current value: lambda_l2=200\n",
      "[LightGBM] [Warning] lambda_l2 is set=200, reg_lambda=0.0 will be ignored. Current value: lambda_l2=200\n",
      "[LightGBM] [Warning] lambda_l2 is set=200, reg_lambda=0.0 will be ignored. Current value: lambda_l2=200\n",
      "[LightGBM] [Warning] lambda_l2 is set=200, reg_lambda=0.0 will be ignored. Current value: lambda_l2=200\n",
      "[LightGBM] [Warning] lambda_l2 is set=200, reg_lambda=0.0 will be ignored. Current value: lambda_l2=200\n",
      "[LightGBM] [Warning] lambda_l2 is set=200, reg_lambda=0.0 will be ignored. Current value: lambda_l2=200\n",
      "[LightGBM] [Warning] lambda_l2 is set=200, reg_lambda=0.0 will be ignored. Current value: lambda_l2=200\n",
      "[LightGBM] [Warning] lambda_l2 is set=200, reg_lambda=0.0 will be ignored. Current value: lambda_l2=200\n",
      "[LightGBM] [Warning] lambda_l2 is set=200, reg_lambda=0.0 will be ignored. Current value: lambda_l2=200\n",
      "[LightGBM] [Warning] lambda_l2 is set=200, reg_lambda=0.0 will be ignored. Current value: lambda_l2=200\n",
      "[LightGBM] [Warning] lambda_l2 is set=200, reg_lambda=0.0 will be ignored. Current value: lambda_l2=200\n",
      "[LightGBM] [Warning] lambda_l2 is set=200, reg_lambda=0.0 will be ignored. Current value: lambda_l2=200\n",
      "[LightGBM] [Warning] lambda_l2 is set=200, reg_lambda=0.0 will be ignored. Current value: lambda_l2=200\n",
      "[LightGBM] [Warning] lambda_l2 is set=200, reg_lambda=0.0 will be ignored. Current value: lambda_l2=200\n",
      "[LightGBM] [Warning] lambda_l2 is set=200, reg_lambda=0.0 will be ignored. Current value: lambda_l2=200\n",
      "[LightGBM] [Warning] lambda_l2 is set=200, reg_lambda=0.0 will be ignored. Current value: lambda_l2=200\n",
      "[LightGBM] [Warning] lambda_l2 is set=200, reg_lambda=0.0 will be ignored. Current value: lambda_l2=200\n",
      "[LightGBM] [Warning] lambda_l2 is set=200, reg_lambda=0.0 will be ignored. Current value: lambda_l2=200\n",
      "[LightGBM] [Warning] lambda_l2 is set=200, reg_lambda=0.0 will be ignored. Current value: lambda_l2=200\n",
      "[LightGBM] [Warning] lambda_l2 is set=200, reg_lambda=0.0 will be ignored. Current value: lambda_l2=200\n",
      "[LightGBM] [Warning] lambda_l2 is set=200, reg_lambda=0.0 will be ignored. Current value: lambda_l2=200\n",
      "[LightGBM] [Warning] lambda_l2 is set=200, reg_lambda=0.0 will be ignored. Current value: lambda_l2=200\n",
      "[LightGBM] [Warning] lambda_l2 is set=200, reg_lambda=0.0 will be ignored. Current value: lambda_l2=200\n",
      "[LightGBM] [Warning] lambda_l2 is set=200, reg_lambda=0.0 will be ignored. Current value: lambda_l2=200\n",
      "[LightGBM] [Warning] lambda_l2 is set=200, reg_lambda=0.0 will be ignored. Current value: lambda_l2=200\n",
      "[LightGBM] [Warning] lambda_l2 is set=200, reg_lambda=0.0 will be ignored. Current value: lambda_l2=200\n",
      "[LightGBM] [Warning] lambda_l2 is set=200, reg_lambda=0.0 will be ignored. Current value: lambda_l2=200\n",
      "[LightGBM] [Warning] lambda_l2 is set=200, reg_lambda=0.0 will be ignored. Current value: lambda_l2=200\n",
      "[LightGBM] [Warning] lambda_l2 is set=200, reg_lambda=0.0 will be ignored. Current value: lambda_l2=200\n",
      "[LightGBM] [Warning] lambda_l2 is set=200, reg_lambda=0.0 will be ignored. Current value: lambda_l2=200\n",
      "[LightGBM] [Warning] lambda_l2 is set=200, reg_lambda=0.0 will be ignored. Current value: lambda_l2=200\n",
      "[LightGBM] [Warning] lambda_l2 is set=200, reg_lambda=0.0 will be ignored. Current value: lambda_l2=200\n",
      "[LightGBM] [Warning] lambda_l2 is set=200, reg_lambda=0.0 will be ignored. Current value: lambda_l2=200\n",
      "[LightGBM] [Warning] lambda_l2 is set=200, reg_lambda=0.0 will be ignored. Current value: lambda_l2=200\n",
      "[LightGBM] [Warning] lambda_l2 is set=200, reg_lambda=0.0 will be ignored. Current value: lambda_l2=200\n",
      "[LightGBM] [Warning] lambda_l2 is set=200, reg_lambda=0.0 will be ignored. Current value: lambda_l2=200\n",
      "[LightGBM] [Warning] lambda_l2 is set=200, reg_lambda=0.0 will be ignored. Current value: lambda_l2=200\n",
      "[LightGBM] [Warning] lambda_l2 is set=200, reg_lambda=0.0 will be ignored. Current value: lambda_l2=200\n",
      "[LightGBM] [Warning] lambda_l2 is set=200, reg_lambda=0.0 will be ignored. Current value: lambda_l2=200\n",
      "[LightGBM] [Warning] lambda_l2 is set=200, reg_lambda=0.0 will be ignored. Current value: lambda_l2=200\n",
      "[LightGBM] [Warning] lambda_l2 is set=200, reg_lambda=0.0 will be ignored. Current value: lambda_l2=200\n",
      "[LightGBM] [Warning] lambda_l2 is set=200, reg_lambda=0.0 will be ignored. Current value: lambda_l2=200\n",
      "[LightGBM] [Warning] lambda_l2 is set=200, reg_lambda=0.0 will be ignored. Current value: lambda_l2=200\n",
      "[LightGBM] [Warning] lambda_l2 is set=200, reg_lambda=0.0 will be ignored. Current value: lambda_l2=200\n",
      "[LightGBM] [Warning] lambda_l2 is set=200, reg_lambda=0.0 will be ignored. Current value: lambda_l2=200\n",
      "[LightGBM] [Warning] lambda_l2 is set=200, reg_lambda=0.0 will be ignored. Current value: lambda_l2=200\n"
     ]
    },
    {
     "name": "stdout",
     "output_type": "stream",
     "text": [
      "[LightGBM] [Warning] lambda_l2 is set=200, reg_lambda=0.0 will be ignored. Current value: lambda_l2=200\n",
      "[LightGBM] [Warning] lambda_l2 is set=200, reg_lambda=0.0 will be ignored. Current value: lambda_l2=200\n",
      "[LightGBM] [Warning] lambda_l2 is set=200, reg_lambda=0.0 will be ignored. Current value: lambda_l2=200\n",
      "[LightGBM] [Warning] lambda_l2 is set=200, reg_lambda=0.0 will be ignored. Current value: lambda_l2=200\n",
      "[LightGBM] [Warning] lambda_l2 is set=200, reg_lambda=0.0 will be ignored. Current value: lambda_l2=200\n",
      "[LightGBM] [Warning] lambda_l2 is set=200, reg_lambda=0.0 will be ignored. Current value: lambda_l2=200\n",
      "[LightGBM] [Warning] lambda_l2 is set=200, reg_lambda=0.0 will be ignored. Current value: lambda_l2=200\n",
      "[LightGBM] [Warning] lambda_l2 is set=200, reg_lambda=0.0 will be ignored. Current value: lambda_l2=200\n",
      "[LightGBM] [Warning] lambda_l2 is set=200, reg_lambda=0.0 will be ignored. Current value: lambda_l2=200\n",
      "[LightGBM] [Warning] lambda_l2 is set=200, reg_lambda=0.0 will be ignored. Current value: lambda_l2=200\n",
      "[LightGBM] [Warning] lambda_l2 is set=200, reg_lambda=0.0 will be ignored. Current value: lambda_l2=200\n",
      "[LightGBM] [Warning] lambda_l2 is set=200, reg_lambda=0.0 will be ignored. Current value: lambda_l2=200\n",
      "[LightGBM] [Warning] lambda_l2 is set=200, reg_lambda=0.0 will be ignored. Current value: lambda_l2=200\n",
      "[LightGBM] [Warning] lambda_l2 is set=200, reg_lambda=0.0 will be ignored. Current value: lambda_l2=200\n",
      "[LightGBM] [Warning] lambda_l2 is set=200, reg_lambda=0.0 will be ignored. Current value: lambda_l2=200\n",
      "[LightGBM] [Warning] lambda_l2 is set=200, reg_lambda=0.0 will be ignored. Current value: lambda_l2=200\n",
      "[LightGBM] [Warning] lambda_l2 is set=200, reg_lambda=0.0 will be ignored. Current value: lambda_l2=200\n",
      "[LightGBM] [Warning] lambda_l2 is set=200, reg_lambda=0.0 will be ignored. Current value: lambda_l2=200\n",
      "[LightGBM] [Warning] lambda_l2 is set=200, reg_lambda=0.0 will be ignored. Current value: lambda_l2=200\n",
      "[LightGBM] [Warning] lambda_l2 is set=200, reg_lambda=0.0 will be ignored. Current value: lambda_l2=200\n",
      "[LightGBM] [Warning] lambda_l2 is set=200, reg_lambda=0.0 will be ignored. Current value: lambda_l2=200\n",
      "[LightGBM] [Warning] lambda_l2 is set=200, reg_lambda=0.0 will be ignored. Current value: lambda_l2=200\n",
      "[LightGBM] [Warning] lambda_l2 is set=200, reg_lambda=0.0 will be ignored. Current value: lambda_l2=200\n",
      "[LightGBM] [Warning] lambda_l2 is set=200, reg_lambda=0.0 will be ignored. Current value: lambda_l2=200\n",
      "[LightGBM] [Warning] lambda_l2 is set=200, reg_lambda=0.0 will be ignored. Current value: lambda_l2=200\n",
      "[LightGBM] [Warning] lambda_l2 is set=200, reg_lambda=0.0 will be ignored. Current value: lambda_l2=200\n",
      "[LightGBM] [Warning] lambda_l2 is set=200, reg_lambda=0.0 will be ignored. Current value: lambda_l2=200\n",
      "[LightGBM] [Warning] lambda_l2 is set=200, reg_lambda=0.0 will be ignored. Current value: lambda_l2=200\n",
      "[LightGBM] [Warning] lambda_l2 is set=200, reg_lambda=0.0 will be ignored. Current value: lambda_l2=200\n",
      "[LightGBM] [Warning] lambda_l2 is set=200, reg_lambda=0.0 will be ignored. Current value: lambda_l2=200\n",
      "[LightGBM] [Warning] lambda_l2 is set=200, reg_lambda=0.0 will be ignored. Current value: lambda_l2=200\n",
      "[LightGBM] [Warning] lambda_l2 is set=200, reg_lambda=0.0 will be ignored. Current value: lambda_l2=200\n",
      "[LightGBM] [Warning] lambda_l2 is set=200, reg_lambda=0.0 will be ignored. Current value: lambda_l2=200\n",
      "[LightGBM] [Warning] lambda_l2 is set=200, reg_lambda=0.0 will be ignored. Current value: lambda_l2=200\n",
      "[LightGBM] [Warning] lambda_l2 is set=200, reg_lambda=0.0 will be ignored. Current value: lambda_l2=200\n",
      "[LightGBM] [Warning] lambda_l2 is set=200, reg_lambda=0.0 will be ignored. Current value: lambda_l2=200\n",
      "[LightGBM] [Warning] lambda_l2 is set=200, reg_lambda=0.0 will be ignored. Current value: lambda_l2=200\n",
      "[LightGBM] [Warning] lambda_l2 is set=200, reg_lambda=0.0 will be ignored. Current value: lambda_l2=200\n",
      "[LightGBM] [Warning] lambda_l2 is set=200, reg_lambda=0.0 will be ignored. Current value: lambda_l2=200\n",
      "[LightGBM] [Warning] lambda_l2 is set=200, reg_lambda=0.0 will be ignored. Current value: lambda_l2=200\n",
      "[LightGBM] [Warning] lambda_l2 is set=200, reg_lambda=0.0 will be ignored. Current value: lambda_l2=200\n",
      "[LightGBM] [Warning] lambda_l2 is set=200, reg_lambda=0.0 will be ignored. Current value: lambda_l2=200\n",
      "[LightGBM] [Warning] lambda_l2 is set=200, reg_lambda=0.0 will be ignored. Current value: lambda_l2=200\n",
      "[LightGBM] [Warning] lambda_l2 is set=200, reg_lambda=0.0 will be ignored. Current value: lambda_l2=200\n",
      "[LightGBM] [Warning] lambda_l2 is set=200, reg_lambda=0.0 will be ignored. Current value: lambda_l2=200\n",
      "[LightGBM] [Warning] lambda_l2 is set=200, reg_lambda=0.0 will be ignored. Current value: lambda_l2=200\n",
      "[LightGBM] [Warning] lambda_l2 is set=200, reg_lambda=0.0 will be ignored. Current value: lambda_l2=200\n",
      "[LightGBM] [Warning] lambda_l2 is set=200, reg_lambda=0.0 will be ignored. Current value: lambda_l2=200\n",
      "[LightGBM] [Warning] lambda_l2 is set=200, reg_lambda=0.0 will be ignored. Current value: lambda_l2=200\n",
      "[LightGBM] [Warning] lambda_l2 is set=200, reg_lambda=0.0 will be ignored. Current value: lambda_l2=200\n",
      "[LightGBM] [Warning] lambda_l2 is set=200, reg_lambda=0.0 will be ignored. Current value: lambda_l2=200\n",
      "[LightGBM] [Warning] lambda_l2 is set=200, reg_lambda=0.0 will be ignored. Current value: lambda_l2=200\n",
      "[LightGBM] [Warning] lambda_l2 is set=200, reg_lambda=0.0 will be ignored. Current value: lambda_l2=200\n",
      "[LightGBM] [Warning] lambda_l2 is set=200, reg_lambda=0.0 will be ignored. Current value: lambda_l2=200\n",
      "[LightGBM] [Warning] lambda_l2 is set=200, reg_lambda=0.0 will be ignored. Current value: lambda_l2=200\n",
      "[LightGBM] [Warning] lambda_l2 is set=200, reg_lambda=0.0 will be ignored. Current value: lambda_l2=200\n",
      "[LightGBM] [Warning] lambda_l2 is set=200, reg_lambda=0.0 will be ignored. Current value: lambda_l2=200\n",
      "[LightGBM] [Warning] lambda_l2 is set=200, reg_lambda=0.0 will be ignored. Current value: lambda_l2=200\n",
      "[LightGBM] [Warning] lambda_l2 is set=250, reg_lambda=0.0 will be ignored. Current value: lambda_l2=250\n",
      "[LightGBM] [Warning] lambda_l2 is set=250, reg_lambda=0.0 will be ignored. Current value: lambda_l2=250\n",
      "[LightGBM] [Warning] lambda_l2 is set=250, reg_lambda=0.0 will be ignored. Current value: lambda_l2=250\n",
      "[LightGBM] [Warning] lambda_l2 is set=250, reg_lambda=0.0 will be ignored. Current value: lambda_l2=250\n",
      "[LightGBM] [Warning] lambda_l2 is set=250, reg_lambda=0.0 will be ignored. Current value: lambda_l2=250\n",
      "[LightGBM] [Warning] lambda_l2 is set=250, reg_lambda=0.0 will be ignored. Current value: lambda_l2=250\n",
      "[LightGBM] [Warning] lambda_l2 is set=250, reg_lambda=0.0 will be ignored. Current value: lambda_l2=250\n",
      "[LightGBM] [Warning] lambda_l2 is set=250, reg_lambda=0.0 will be ignored. Current value: lambda_l2=250\n",
      "[LightGBM] [Warning] lambda_l2 is set=250, reg_lambda=0.0 will be ignored. Current value: lambda_l2=250\n",
      "[LightGBM] [Warning] lambda_l2 is set=250, reg_lambda=0.0 will be ignored. Current value: lambda_l2=250\n",
      "[LightGBM] [Warning] lambda_l2 is set=250, reg_lambda=0.0 will be ignored. Current value: lambda_l2=250\n",
      "[LightGBM] [Warning] lambda_l2 is set=250, reg_lambda=0.0 will be ignored. Current value: lambda_l2=250\n",
      "[LightGBM] [Warning] lambda_l2 is set=250, reg_lambda=0.0 will be ignored. Current value: lambda_l2=250\n",
      "[LightGBM] [Warning] lambda_l2 is set=250, reg_lambda=0.0 will be ignored. Current value: lambda_l2=250\n",
      "[LightGBM] [Warning] lambda_l2 is set=250, reg_lambda=0.0 will be ignored. Current value: lambda_l2=250\n",
      "[LightGBM] [Warning] lambda_l2 is set=250, reg_lambda=0.0 will be ignored. Current value: lambda_l2=250\n",
      "[LightGBM] [Warning] lambda_l2 is set=250, reg_lambda=0.0 will be ignored. Current value: lambda_l2=250\n",
      "[LightGBM] [Warning] lambda_l2 is set=250, reg_lambda=0.0 will be ignored. Current value: lambda_l2=250\n",
      "[LightGBM] [Warning] lambda_l2 is set=250, reg_lambda=0.0 will be ignored. Current value: lambda_l2=250\n",
      "[LightGBM] [Warning] lambda_l2 is set=250, reg_lambda=0.0 will be ignored. Current value: lambda_l2=250\n",
      "[LightGBM] [Warning] lambda_l2 is set=250, reg_lambda=0.0 will be ignored. Current value: lambda_l2=250\n"
     ]
    },
    {
     "name": "stdout",
     "output_type": "stream",
     "text": [
      "[LightGBM] [Warning] lambda_l2 is set=250, reg_lambda=0.0 will be ignored. Current value: lambda_l2=250\n",
      "[LightGBM] [Warning] lambda_l2 is set=250, reg_lambda=0.0 will be ignored. Current value: lambda_l2=250\n",
      "[LightGBM] [Warning] lambda_l2 is set=250, reg_lambda=0.0 will be ignored. Current value: lambda_l2=250\n",
      "[LightGBM] [Warning] lambda_l2 is set=250, reg_lambda=0.0 will be ignored. Current value: lambda_l2=250\n",
      "[LightGBM] [Warning] lambda_l2 is set=250, reg_lambda=0.0 will be ignored. Current value: lambda_l2=250\n",
      "[LightGBM] [Warning] lambda_l2 is set=250, reg_lambda=0.0 will be ignored. Current value: lambda_l2=250\n",
      "[LightGBM] [Warning] lambda_l2 is set=250, reg_lambda=0.0 will be ignored. Current value: lambda_l2=250\n",
      "[LightGBM] [Warning] lambda_l2 is set=250, reg_lambda=0.0 will be ignored. Current value: lambda_l2=250\n",
      "[LightGBM] [Warning] lambda_l2 is set=250, reg_lambda=0.0 will be ignored. Current value: lambda_l2=250\n",
      "[LightGBM] [Warning] lambda_l2 is set=250, reg_lambda=0.0 will be ignored. Current value: lambda_l2=250\n",
      "[LightGBM] [Warning] lambda_l2 is set=250, reg_lambda=0.0 will be ignored. Current value: lambda_l2=250\n",
      "[LightGBM] [Warning] lambda_l2 is set=250, reg_lambda=0.0 will be ignored. Current value: lambda_l2=250\n",
      "[LightGBM] [Warning] lambda_l2 is set=250, reg_lambda=0.0 will be ignored. Current value: lambda_l2=250\n",
      "[LightGBM] [Warning] lambda_l2 is set=250, reg_lambda=0.0 will be ignored. Current value: lambda_l2=250\n",
      "[LightGBM] [Warning] lambda_l2 is set=250, reg_lambda=0.0 will be ignored. Current value: lambda_l2=250\n",
      "[LightGBM] [Warning] lambda_l2 is set=250, reg_lambda=0.0 will be ignored. Current value: lambda_l2=250\n",
      "[LightGBM] [Warning] lambda_l2 is set=250, reg_lambda=0.0 will be ignored. Current value: lambda_l2=250\n",
      "[LightGBM] [Warning] lambda_l2 is set=250, reg_lambda=0.0 will be ignored. Current value: lambda_l2=250\n",
      "[LightGBM] [Warning] lambda_l2 is set=250, reg_lambda=0.0 will be ignored. Current value: lambda_l2=250\n",
      "[LightGBM] [Warning] lambda_l2 is set=250, reg_lambda=0.0 will be ignored. Current value: lambda_l2=250\n",
      "[LightGBM] [Warning] lambda_l2 is set=250, reg_lambda=0.0 will be ignored. Current value: lambda_l2=250\n",
      "[LightGBM] [Warning] lambda_l2 is set=250, reg_lambda=0.0 will be ignored. Current value: lambda_l2=250\n",
      "[LightGBM] [Warning] lambda_l2 is set=250, reg_lambda=0.0 will be ignored. Current value: lambda_l2=250\n",
      "[LightGBM] [Warning] lambda_l2 is set=250, reg_lambda=0.0 will be ignored. Current value: lambda_l2=250\n",
      "[LightGBM] [Warning] lambda_l2 is set=250, reg_lambda=0.0 will be ignored. Current value: lambda_l2=250\n",
      "[LightGBM] [Warning] lambda_l2 is set=250, reg_lambda=0.0 will be ignored. Current value: lambda_l2=250\n",
      "[LightGBM] [Warning] lambda_l2 is set=250, reg_lambda=0.0 will be ignored. Current value: lambda_l2=250\n",
      "[LightGBM] [Warning] lambda_l2 is set=250, reg_lambda=0.0 will be ignored. Current value: lambda_l2=250\n",
      "[LightGBM] [Warning] lambda_l2 is set=250, reg_lambda=0.0 will be ignored. Current value: lambda_l2=250\n",
      "[LightGBM] [Warning] lambda_l2 is set=250, reg_lambda=0.0 will be ignored. Current value: lambda_l2=250\n",
      "[LightGBM] [Warning] lambda_l2 is set=250, reg_lambda=0.0 will be ignored. Current value: lambda_l2=250\n",
      "[LightGBM] [Warning] lambda_l2 is set=250, reg_lambda=0.0 will be ignored. Current value: lambda_l2=250\n",
      "[LightGBM] [Warning] lambda_l2 is set=250, reg_lambda=0.0 will be ignored. Current value: lambda_l2=250\n",
      "[LightGBM] [Warning] lambda_l2 is set=250, reg_lambda=0.0 will be ignored. Current value: lambda_l2=250\n",
      "[LightGBM] [Warning] lambda_l2 is set=250, reg_lambda=0.0 will be ignored. Current value: lambda_l2=250\n",
      "[LightGBM] [Warning] lambda_l2 is set=250, reg_lambda=0.0 will be ignored. Current value: lambda_l2=250\n",
      "[LightGBM] [Warning] lambda_l2 is set=250, reg_lambda=0.0 will be ignored. Current value: lambda_l2=250\n",
      "[LightGBM] [Warning] lambda_l2 is set=250, reg_lambda=0.0 will be ignored. Current value: lambda_l2=250\n",
      "[LightGBM] [Warning] lambda_l2 is set=250, reg_lambda=0.0 will be ignored. Current value: lambda_l2=250\n",
      "[LightGBM] [Warning] lambda_l2 is set=250, reg_lambda=0.0 will be ignored. Current value: lambda_l2=250\n",
      "[LightGBM] [Warning] lambda_l2 is set=250, reg_lambda=0.0 will be ignored. Current value: lambda_l2=250\n",
      "[LightGBM] [Warning] lambda_l2 is set=250, reg_lambda=0.0 will be ignored. Current value: lambda_l2=250\n",
      "[LightGBM] [Warning] lambda_l2 is set=250, reg_lambda=0.0 will be ignored. Current value: lambda_l2=250\n",
      "[LightGBM] [Warning] lambda_l2 is set=250, reg_lambda=0.0 will be ignored. Current value: lambda_l2=250\n",
      "[LightGBM] [Warning] lambda_l2 is set=250, reg_lambda=0.0 will be ignored. Current value: lambda_l2=250\n",
      "[LightGBM] [Warning] lambda_l2 is set=250, reg_lambda=0.0 will be ignored. Current value: lambda_l2=250\n",
      "[LightGBM] [Warning] lambda_l2 is set=250, reg_lambda=0.0 will be ignored. Current value: lambda_l2=250\n",
      "[LightGBM] [Warning] lambda_l2 is set=250, reg_lambda=0.0 will be ignored. Current value: lambda_l2=250\n",
      "[LightGBM] [Warning] lambda_l2 is set=250, reg_lambda=0.0 will be ignored. Current value: lambda_l2=250\n",
      "[LightGBM] [Warning] lambda_l2 is set=250, reg_lambda=0.0 will be ignored. Current value: lambda_l2=250\n",
      "[LightGBM] [Warning] lambda_l2 is set=250, reg_lambda=0.0 will be ignored. Current value: lambda_l2=250\n",
      "[LightGBM] [Warning] lambda_l2 is set=250, reg_lambda=0.0 will be ignored. Current value: lambda_l2=250\n",
      "[LightGBM] [Warning] lambda_l2 is set=250, reg_lambda=0.0 will be ignored. Current value: lambda_l2=250\n",
      "[LightGBM] [Warning] lambda_l2 is set=250, reg_lambda=0.0 will be ignored. Current value: lambda_l2=250\n",
      "[LightGBM] [Warning] lambda_l2 is set=250, reg_lambda=0.0 will be ignored. Current value: lambda_l2=250\n",
      "[LightGBM] [Warning] lambda_l2 is set=250, reg_lambda=0.0 will be ignored. Current value: lambda_l2=250\n",
      "[LightGBM] [Warning] lambda_l2 is set=250, reg_lambda=0.0 will be ignored. Current value: lambda_l2=250\n",
      "[LightGBM] [Warning] lambda_l2 is set=250, reg_lambda=0.0 will be ignored. Current value: lambda_l2=250\n",
      "[LightGBM] [Warning] lambda_l2 is set=250, reg_lambda=0.0 will be ignored. Current value: lambda_l2=250\n",
      "[LightGBM] [Warning] lambda_l2 is set=250, reg_lambda=0.0 will be ignored. Current value: lambda_l2=250\n",
      "[LightGBM] [Warning] lambda_l2 is set=250, reg_lambda=0.0 will be ignored. Current value: lambda_l2=250\n",
      "[LightGBM] [Warning] lambda_l2 is set=250, reg_lambda=0.0 will be ignored. Current value: lambda_l2=250\n",
      "[LightGBM] [Warning] lambda_l2 is set=250, reg_lambda=0.0 will be ignored. Current value: lambda_l2=250\n",
      "[LightGBM] [Warning] lambda_l2 is set=250, reg_lambda=0.0 will be ignored. Current value: lambda_l2=250\n",
      "[LightGBM] [Warning] lambda_l2 is set=250, reg_lambda=0.0 will be ignored. Current value: lambda_l2=250\n",
      "[LightGBM] [Warning] lambda_l2 is set=250, reg_lambda=0.0 will be ignored. Current value: lambda_l2=250\n",
      "[LightGBM] [Warning] lambda_l2 is set=250, reg_lambda=0.0 will be ignored. Current value: lambda_l2=250\n",
      "[LightGBM] [Warning] lambda_l2 is set=250, reg_lambda=0.0 will be ignored. Current value: lambda_l2=250\n",
      "[LightGBM] [Warning] lambda_l2 is set=250, reg_lambda=0.0 will be ignored. Current value: lambda_l2=250\n",
      "[LightGBM] [Warning] lambda_l2 is set=250, reg_lambda=0.0 will be ignored. Current value: lambda_l2=250\n",
      "[LightGBM] [Warning] lambda_l2 is set=250, reg_lambda=0.0 will be ignored. Current value: lambda_l2=250\n",
      "[LightGBM] [Warning] lambda_l2 is set=250, reg_lambda=0.0 will be ignored. Current value: lambda_l2=250\n",
      "[LightGBM] [Warning] lambda_l2 is set=250, reg_lambda=0.0 will be ignored. Current value: lambda_l2=250\n",
      "[LightGBM] [Warning] lambda_l2 is set=250, reg_lambda=0.0 will be ignored. Current value: lambda_l2=250\n",
      "[LightGBM] [Warning] lambda_l2 is set=250, reg_lambda=0.0 will be ignored. Current value: lambda_l2=250\n",
      "[LightGBM] [Warning] lambda_l2 is set=250, reg_lambda=0.0 will be ignored. Current value: lambda_l2=250\n",
      "[LightGBM] [Warning] lambda_l2 is set=250, reg_lambda=0.0 will be ignored. Current value: lambda_l2=250\n",
      "[LightGBM] [Warning] lambda_l2 is set=250, reg_lambda=0.0 will be ignored. Current value: lambda_l2=250\n",
      "[LightGBM] [Warning] lambda_l2 is set=250, reg_lambda=0.0 will be ignored. Current value: lambda_l2=250\n"
     ]
    },
    {
     "name": "stdout",
     "output_type": "stream",
     "text": [
      "[LightGBM] [Warning] lambda_l2 is set=250, reg_lambda=0.0 will be ignored. Current value: lambda_l2=250\n",
      "[LightGBM] [Warning] lambda_l2 is set=250, reg_lambda=0.0 will be ignored. Current value: lambda_l2=250\n",
      "[LightGBM] [Warning] lambda_l2 is set=250, reg_lambda=0.0 will be ignored. Current value: lambda_l2=250\n",
      "[LightGBM] [Warning] lambda_l2 is set=250, reg_lambda=0.0 will be ignored. Current value: lambda_l2=250\n",
      "[LightGBM] [Warning] lambda_l2 is set=250, reg_lambda=0.0 will be ignored. Current value: lambda_l2=250\n",
      "[LightGBM] [Warning] lambda_l2 is set=250, reg_lambda=0.0 will be ignored. Current value: lambda_l2=250\n",
      "[LightGBM] [Warning] lambda_l2 is set=250, reg_lambda=0.0 will be ignored. Current value: lambda_l2=250\n",
      "[LightGBM] [Warning] lambda_l2 is set=250, reg_lambda=0.0 will be ignored. Current value: lambda_l2=250\n",
      "[LightGBM] [Warning] lambda_l2 is set=250, reg_lambda=0.0 will be ignored. Current value: lambda_l2=250\n",
      "[LightGBM] [Warning] lambda_l2 is set=250, reg_lambda=0.0 will be ignored. Current value: lambda_l2=250\n",
      "[LightGBM] [Warning] lambda_l2 is set=250, reg_lambda=0.0 will be ignored. Current value: lambda_l2=250\n",
      "[LightGBM] [Warning] lambda_l2 is set=250, reg_lambda=0.0 will be ignored. Current value: lambda_l2=250\n",
      "[LightGBM] [Warning] lambda_l2 is set=250, reg_lambda=0.0 will be ignored. Current value: lambda_l2=250\n",
      "[LightGBM] [Warning] lambda_l2 is set=250, reg_lambda=0.0 will be ignored. Current value: lambda_l2=250\n",
      "[LightGBM] [Warning] lambda_l2 is set=250, reg_lambda=0.0 will be ignored. Current value: lambda_l2=250\n",
      "[LightGBM] [Warning] lambda_l2 is set=250, reg_lambda=0.0 will be ignored. Current value: lambda_l2=250\n",
      "[LightGBM] [Warning] lambda_l2 is set=250, reg_lambda=0.0 will be ignored. Current value: lambda_l2=250\n",
      "[LightGBM] [Warning] lambda_l2 is set=250, reg_lambda=0.0 will be ignored. Current value: lambda_l2=250\n",
      "[LightGBM] [Warning] lambda_l2 is set=250, reg_lambda=0.0 will be ignored. Current value: lambda_l2=250\n",
      "[LightGBM] [Warning] lambda_l2 is set=250, reg_lambda=0.0 will be ignored. Current value: lambda_l2=250\n",
      "[LightGBM] [Warning] lambda_l2 is set=250, reg_lambda=0.0 will be ignored. Current value: lambda_l2=250\n",
      "[LightGBM] [Warning] lambda_l2 is set=250, reg_lambda=0.0 will be ignored. Current value: lambda_l2=250\n",
      "[LightGBM] [Warning] lambda_l2 is set=250, reg_lambda=0.0 will be ignored. Current value: lambda_l2=250\n",
      "[LightGBM] [Warning] lambda_l2 is set=250, reg_lambda=0.0 will be ignored. Current value: lambda_l2=250\n",
      "[LightGBM] [Warning] lambda_l2 is set=250, reg_lambda=0.0 will be ignored. Current value: lambda_l2=250\n",
      "[LightGBM] [Warning] lambda_l2 is set=250, reg_lambda=0.0 will be ignored. Current value: lambda_l2=250\n",
      "[LightGBM] [Warning] lambda_l2 is set=250, reg_lambda=0.0 will be ignored. Current value: lambda_l2=250\n",
      "[LightGBM] [Warning] lambda_l2 is set=250, reg_lambda=0.0 will be ignored. Current value: lambda_l2=250\n",
      "[LightGBM] [Warning] lambda_l2 is set=250, reg_lambda=0.0 will be ignored. Current value: lambda_l2=250\n",
      "[LightGBM] [Warning] lambda_l2 is set=250, reg_lambda=0.0 will be ignored. Current value: lambda_l2=250\n",
      "[LightGBM] [Warning] lambda_l2 is set=250, reg_lambda=0.0 will be ignored. Current value: lambda_l2=250\n",
      "[LightGBM] [Warning] lambda_l2 is set=250, reg_lambda=0.0 will be ignored. Current value: lambda_l2=250\n",
      "[LightGBM] [Warning] lambda_l2 is set=250, reg_lambda=0.0 will be ignored. Current value: lambda_l2=250\n",
      "[LightGBM] [Warning] lambda_l2 is set=250, reg_lambda=0.0 will be ignored. Current value: lambda_l2=250\n",
      "[LightGBM] [Warning] lambda_l2 is set=250, reg_lambda=0.0 will be ignored. Current value: lambda_l2=250\n",
      "[LightGBM] [Warning] lambda_l2 is set=250, reg_lambda=0.0 will be ignored. Current value: lambda_l2=250\n",
      "[LightGBM] [Warning] lambda_l2 is set=250, reg_lambda=0.0 will be ignored. Current value: lambda_l2=250\n",
      "[LightGBM] [Warning] lambda_l2 is set=250, reg_lambda=0.0 will be ignored. Current value: lambda_l2=250\n",
      "[LightGBM] [Warning] lambda_l2 is set=250, reg_lambda=0.0 will be ignored. Current value: lambda_l2=250\n",
      "[LightGBM] [Warning] lambda_l2 is set=250, reg_lambda=0.0 will be ignored. Current value: lambda_l2=250\n",
      "[LightGBM] [Warning] lambda_l2 is set=250, reg_lambda=0.0 will be ignored. Current value: lambda_l2=250\n",
      "[LightGBM] [Warning] lambda_l2 is set=250, reg_lambda=0.0 will be ignored. Current value: lambda_l2=250\n",
      "[LightGBM] [Warning] lambda_l2 is set=250, reg_lambda=0.0 will be ignored. Current value: lambda_l2=250\n",
      "[LightGBM] [Warning] lambda_l2 is set=250, reg_lambda=0.0 will be ignored. Current value: lambda_l2=250\n",
      "[LightGBM] [Warning] lambda_l2 is set=250, reg_lambda=0.0 will be ignored. Current value: lambda_l2=250\n",
      "[LightGBM] [Warning] lambda_l2 is set=250, reg_lambda=0.0 will be ignored. Current value: lambda_l2=250\n",
      "[LightGBM] [Warning] lambda_l2 is set=250, reg_lambda=0.0 will be ignored. Current value: lambda_l2=250\n",
      "[LightGBM] [Warning] lambda_l2 is set=250, reg_lambda=0.0 will be ignored. Current value: lambda_l2=250\n",
      "[LightGBM] [Warning] lambda_l2 is set=250, reg_lambda=0.0 will be ignored. Current value: lambda_l2=250\n",
      "[LightGBM] [Warning] lambda_l2 is set=250, reg_lambda=0.0 will be ignored. Current value: lambda_l2=250\n",
      "[LightGBM] [Warning] lambda_l2 is set=250, reg_lambda=0.0 will be ignored. Current value: lambda_l2=250\n",
      "[LightGBM] [Warning] lambda_l2 is set=250, reg_lambda=0.0 will be ignored. Current value: lambda_l2=250\n",
      "[LightGBM] [Warning] lambda_l2 is set=250, reg_lambda=0.0 will be ignored. Current value: lambda_l2=250\n",
      "[LightGBM] [Warning] lambda_l2 is set=250, reg_lambda=0.0 will be ignored. Current value: lambda_l2=250\n",
      "[LightGBM] [Warning] lambda_l2 is set=250, reg_lambda=0.0 will be ignored. Current value: lambda_l2=250\n",
      "[LightGBM] [Warning] lambda_l2 is set=250, reg_lambda=0.0 will be ignored. Current value: lambda_l2=250\n",
      "[LightGBM] [Warning] lambda_l2 is set=250, reg_lambda=0.0 will be ignored. Current value: lambda_l2=250\n",
      "[LightGBM] [Warning] lambda_l2 is set=250, reg_lambda=0.0 will be ignored. Current value: lambda_l2=250\n",
      "[LightGBM] [Warning] lambda_l2 is set=250, reg_lambda=0.0 will be ignored. Current value: lambda_l2=250\n",
      "[LightGBM] [Warning] lambda_l2 is set=250, reg_lambda=0.0 will be ignored. Current value: lambda_l2=250\n",
      "[LightGBM] [Warning] lambda_l2 is set=250, reg_lambda=0.0 will be ignored. Current value: lambda_l2=250\n",
      "[LightGBM] [Warning] lambda_l2 is set=250, reg_lambda=0.0 will be ignored. Current value: lambda_l2=250\n",
      "[LightGBM] [Warning] lambda_l2 is set=250, reg_lambda=0.0 will be ignored. Current value: lambda_l2=250\n",
      "[LightGBM] [Warning] lambda_l2 is set=250, reg_lambda=0.0 will be ignored. Current value: lambda_l2=250\n",
      "[LightGBM] [Warning] lambda_l2 is set=250, reg_lambda=0.0 will be ignored. Current value: lambda_l2=250\n",
      "[LightGBM] [Warning] lambda_l2 is set=250, reg_lambda=0.0 will be ignored. Current value: lambda_l2=250\n",
      "[LightGBM] [Warning] lambda_l2 is set=250, reg_lambda=0.0 will be ignored. Current value: lambda_l2=250\n",
      "[LightGBM] [Warning] lambda_l2 is set=250, reg_lambda=0.0 will be ignored. Current value: lambda_l2=250\n",
      "[LightGBM] [Warning] lambda_l2 is set=250, reg_lambda=0.0 will be ignored. Current value: lambda_l2=250\n",
      "[LightGBM] [Warning] lambda_l2 is set=250, reg_lambda=0.0 will be ignored. Current value: lambda_l2=250\n",
      "[LightGBM] [Warning] lambda_l2 is set=250, reg_lambda=0.0 will be ignored. Current value: lambda_l2=250\n",
      "[LightGBM] [Warning] lambda_l2 is set=250, reg_lambda=0.0 will be ignored. Current value: lambda_l2=250\n",
      "[LightGBM] [Warning] lambda_l2 is set=250, reg_lambda=0.0 will be ignored. Current value: lambda_l2=250\n",
      "[LightGBM] [Warning] lambda_l2 is set=250, reg_lambda=0.0 will be ignored. Current value: lambda_l2=250\n",
      "[LightGBM] [Warning] lambda_l2 is set=250, reg_lambda=0.0 will be ignored. Current value: lambda_l2=250\n",
      "[LightGBM] [Warning] lambda_l2 is set=250, reg_lambda=0.0 will be ignored. Current value: lambda_l2=250\n",
      "[LightGBM] [Warning] lambda_l2 is set=250, reg_lambda=0.0 will be ignored. Current value: lambda_l2=250\n",
      "[LightGBM] [Warning] lambda_l2 is set=250, reg_lambda=0.0 will be ignored. Current value: lambda_l2=250\n",
      "[LightGBM] [Warning] lambda_l2 is set=250, reg_lambda=0.0 will be ignored. Current value: lambda_l2=250\n"
     ]
    },
    {
     "name": "stdout",
     "output_type": "stream",
     "text": [
      "[LightGBM] [Warning] lambda_l2 is set=250, reg_lambda=0.0 will be ignored. Current value: lambda_l2=250\n",
      "[LightGBM] [Warning] lambda_l2 is set=250, reg_lambda=0.0 will be ignored. Current value: lambda_l2=250\n",
      "[LightGBM] [Warning] lambda_l2 is set=250, reg_lambda=0.0 will be ignored. Current value: lambda_l2=250\n",
      "[LightGBM] [Warning] lambda_l2 is set=250, reg_lambda=0.0 will be ignored. Current value: lambda_l2=250\n",
      "[LightGBM] [Warning] lambda_l2 is set=250, reg_lambda=0.0 will be ignored. Current value: lambda_l2=250\n",
      "[LightGBM] [Warning] lambda_l2 is set=250, reg_lambda=0.0 will be ignored. Current value: lambda_l2=250\n",
      "[LightGBM] [Warning] lambda_l2 is set=250, reg_lambda=0.0 will be ignored. Current value: lambda_l2=250\n",
      "[LightGBM] [Warning] lambda_l2 is set=250, reg_lambda=0.0 will be ignored. Current value: lambda_l2=250\n",
      "[LightGBM] [Warning] lambda_l2 is set=250, reg_lambda=0.0 will be ignored. Current value: lambda_l2=250\n",
      "[LightGBM] [Warning] lambda_l2 is set=250, reg_lambda=0.0 will be ignored. Current value: lambda_l2=250\n",
      "[LightGBM] [Warning] lambda_l2 is set=250, reg_lambda=0.0 will be ignored. Current value: lambda_l2=250\n",
      "[LightGBM] [Warning] lambda_l2 is set=250, reg_lambda=0.0 will be ignored. Current value: lambda_l2=250\n",
      "[LightGBM] [Warning] lambda_l2 is set=250, reg_lambda=0.0 will be ignored. Current value: lambda_l2=250\n",
      "[LightGBM] [Warning] lambda_l2 is set=250, reg_lambda=0.0 will be ignored. Current value: lambda_l2=250\n",
      "[LightGBM] [Warning] lambda_l2 is set=250, reg_lambda=0.0 will be ignored. Current value: lambda_l2=250\n",
      "[LightGBM] [Warning] lambda_l2 is set=250, reg_lambda=0.0 will be ignored. Current value: lambda_l2=250\n",
      "[LightGBM] [Warning] lambda_l2 is set=250, reg_lambda=0.0 will be ignored. Current value: lambda_l2=250\n",
      "[LightGBM] [Warning] lambda_l2 is set=250, reg_lambda=0.0 will be ignored. Current value: lambda_l2=250\n",
      "[LightGBM] [Warning] lambda_l2 is set=250, reg_lambda=0.0 will be ignored. Current value: lambda_l2=250\n",
      "[LightGBM] [Warning] lambda_l2 is set=250, reg_lambda=0.0 will be ignored. Current value: lambda_l2=250\n",
      "[LightGBM] [Warning] lambda_l2 is set=250, reg_lambda=0.0 will be ignored. Current value: lambda_l2=250\n",
      "[LightGBM] [Warning] lambda_l2 is set=250, reg_lambda=0.0 will be ignored. Current value: lambda_l2=250\n",
      "[LightGBM] [Warning] lambda_l2 is set=250, reg_lambda=0.0 will be ignored. Current value: lambda_l2=250\n",
      "[LightGBM] [Warning] lambda_l2 is set=250, reg_lambda=0.0 will be ignored. Current value: lambda_l2=250\n",
      "[LightGBM] [Warning] lambda_l2 is set=250, reg_lambda=0.0 will be ignored. Current value: lambda_l2=250\n",
      "[LightGBM] [Warning] lambda_l2 is set=250, reg_lambda=0.0 will be ignored. Current value: lambda_l2=250\n",
      "[LightGBM] [Warning] lambda_l2 is set=250, reg_lambda=0.0 will be ignored. Current value: lambda_l2=250\n",
      "[LightGBM] [Warning] lambda_l2 is set=250, reg_lambda=0.0 will be ignored. Current value: lambda_l2=250\n",
      "[LightGBM] [Warning] lambda_l2 is set=250, reg_lambda=0.0 will be ignored. Current value: lambda_l2=250\n",
      "[LightGBM] [Warning] lambda_l2 is set=250, reg_lambda=0.0 will be ignored. Current value: lambda_l2=250\n",
      "[LightGBM] [Warning] lambda_l2 is set=250, reg_lambda=0.0 will be ignored. Current value: lambda_l2=250\n",
      "[LightGBM] [Warning] lambda_l2 is set=250, reg_lambda=0.0 will be ignored. Current value: lambda_l2=250\n",
      "[LightGBM] [Warning] lambda_l2 is set=250, reg_lambda=0.0 will be ignored. Current value: lambda_l2=250\n",
      "[LightGBM] [Warning] lambda_l2 is set=250, reg_lambda=0.0 will be ignored. Current value: lambda_l2=250\n",
      "[LightGBM] [Warning] lambda_l2 is set=250, reg_lambda=0.0 will be ignored. Current value: lambda_l2=250\n",
      "[LightGBM] [Warning] lambda_l2 is set=250, reg_lambda=0.0 will be ignored. Current value: lambda_l2=250\n",
      "[LightGBM] [Warning] lambda_l2 is set=250, reg_lambda=0.0 will be ignored. Current value: lambda_l2=250\n",
      "[LightGBM] [Warning] lambda_l2 is set=300, reg_lambda=0.0 will be ignored. Current value: lambda_l2=300\n",
      "[LightGBM] [Warning] lambda_l2 is set=300, reg_lambda=0.0 will be ignored. Current value: lambda_l2=300\n",
      "[LightGBM] [Warning] lambda_l2 is set=300, reg_lambda=0.0 will be ignored. Current value: lambda_l2=300\n",
      "[LightGBM] [Warning] lambda_l2 is set=300, reg_lambda=0.0 will be ignored. Current value: lambda_l2=300\n",
      "[LightGBM] [Warning] lambda_l2 is set=300, reg_lambda=0.0 will be ignored. Current value: lambda_l2=300\n",
      "[LightGBM] [Warning] lambda_l2 is set=300, reg_lambda=0.0 will be ignored. Current value: lambda_l2=300\n",
      "[LightGBM] [Warning] lambda_l2 is set=300, reg_lambda=0.0 will be ignored. Current value: lambda_l2=300\n",
      "[LightGBM] [Warning] lambda_l2 is set=300, reg_lambda=0.0 will be ignored. Current value: lambda_l2=300\n",
      "[LightGBM] [Warning] lambda_l2 is set=300, reg_lambda=0.0 will be ignored. Current value: lambda_l2=300\n",
      "[LightGBM] [Warning] lambda_l2 is set=300, reg_lambda=0.0 will be ignored. Current value: lambda_l2=300\n",
      "[LightGBM] [Warning] lambda_l2 is set=300, reg_lambda=0.0 will be ignored. Current value: lambda_l2=300\n",
      "[LightGBM] [Warning] lambda_l2 is set=300, reg_lambda=0.0 will be ignored. Current value: lambda_l2=300\n",
      "[LightGBM] [Warning] lambda_l2 is set=300, reg_lambda=0.0 will be ignored. Current value: lambda_l2=300\n",
      "[LightGBM] [Warning] lambda_l2 is set=300, reg_lambda=0.0 will be ignored. Current value: lambda_l2=300\n",
      "[LightGBM] [Warning] lambda_l2 is set=300, reg_lambda=0.0 will be ignored. Current value: lambda_l2=300\n",
      "[LightGBM] [Warning] lambda_l2 is set=300, reg_lambda=0.0 will be ignored. Current value: lambda_l2=300\n",
      "[LightGBM] [Warning] lambda_l2 is set=300, reg_lambda=0.0 will be ignored. Current value: lambda_l2=300\n",
      "[LightGBM] [Warning] lambda_l2 is set=300, reg_lambda=0.0 will be ignored. Current value: lambda_l2=300\n",
      "[LightGBM] [Warning] lambda_l2 is set=300, reg_lambda=0.0 will be ignored. Current value: lambda_l2=300\n",
      "[LightGBM] [Warning] lambda_l2 is set=300, reg_lambda=0.0 will be ignored. Current value: lambda_l2=300\n",
      "[LightGBM] [Warning] lambda_l2 is set=300, reg_lambda=0.0 will be ignored. Current value: lambda_l2=300\n",
      "[LightGBM] [Warning] lambda_l2 is set=300, reg_lambda=0.0 will be ignored. Current value: lambda_l2=300\n",
      "[LightGBM] [Warning] lambda_l2 is set=300, reg_lambda=0.0 will be ignored. Current value: lambda_l2=300\n",
      "[LightGBM] [Warning] lambda_l2 is set=300, reg_lambda=0.0 will be ignored. Current value: lambda_l2=300\n",
      "[LightGBM] [Warning] lambda_l2 is set=300, reg_lambda=0.0 will be ignored. Current value: lambda_l2=300\n",
      "[LightGBM] [Warning] lambda_l2 is set=300, reg_lambda=0.0 will be ignored. Current value: lambda_l2=300\n",
      "[LightGBM] [Warning] lambda_l2 is set=300, reg_lambda=0.0 will be ignored. Current value: lambda_l2=300\n",
      "[LightGBM] [Warning] lambda_l2 is set=300, reg_lambda=0.0 will be ignored. Current value: lambda_l2=300\n",
      "[LightGBM] [Warning] lambda_l2 is set=300, reg_lambda=0.0 will be ignored. Current value: lambda_l2=300\n",
      "[LightGBM] [Warning] lambda_l2 is set=300, reg_lambda=0.0 will be ignored. Current value: lambda_l2=300\n",
      "[LightGBM] [Warning] lambda_l2 is set=300, reg_lambda=0.0 will be ignored. Current value: lambda_l2=300\n",
      "[LightGBM] [Warning] lambda_l2 is set=300, reg_lambda=0.0 will be ignored. Current value: lambda_l2=300\n",
      "[LightGBM] [Warning] lambda_l2 is set=300, reg_lambda=0.0 will be ignored. Current value: lambda_l2=300\n",
      "[LightGBM] [Warning] lambda_l2 is set=300, reg_lambda=0.0 will be ignored. Current value: lambda_l2=300\n",
      "[LightGBM] [Warning] lambda_l2 is set=300, reg_lambda=0.0 will be ignored. Current value: lambda_l2=300\n",
      "[LightGBM] [Warning] lambda_l2 is set=300, reg_lambda=0.0 will be ignored. Current value: lambda_l2=300\n",
      "[LightGBM] [Warning] lambda_l2 is set=300, reg_lambda=0.0 will be ignored. Current value: lambda_l2=300\n",
      "[LightGBM] [Warning] lambda_l2 is set=300, reg_lambda=0.0 will be ignored. Current value: lambda_l2=300\n",
      "[LightGBM] [Warning] lambda_l2 is set=300, reg_lambda=0.0 will be ignored. Current value: lambda_l2=300\n",
      "[LightGBM] [Warning] lambda_l2 is set=300, reg_lambda=0.0 will be ignored. Current value: lambda_l2=300\n",
      "[LightGBM] [Warning] lambda_l2 is set=300, reg_lambda=0.0 will be ignored. Current value: lambda_l2=300\n",
      "[LightGBM] [Warning] lambda_l2 is set=300, reg_lambda=0.0 will be ignored. Current value: lambda_l2=300\n"
     ]
    },
    {
     "name": "stdout",
     "output_type": "stream",
     "text": [
      "[LightGBM] [Warning] lambda_l2 is set=300, reg_lambda=0.0 will be ignored. Current value: lambda_l2=300\n",
      "[LightGBM] [Warning] lambda_l2 is set=300, reg_lambda=0.0 will be ignored. Current value: lambda_l2=300\n",
      "[LightGBM] [Warning] lambda_l2 is set=300, reg_lambda=0.0 will be ignored. Current value: lambda_l2=300\n",
      "[LightGBM] [Warning] lambda_l2 is set=300, reg_lambda=0.0 will be ignored. Current value: lambda_l2=300\n",
      "[LightGBM] [Warning] lambda_l2 is set=300, reg_lambda=0.0 will be ignored. Current value: lambda_l2=300\n",
      "[LightGBM] [Warning] lambda_l2 is set=300, reg_lambda=0.0 will be ignored. Current value: lambda_l2=300\n",
      "[LightGBM] [Warning] lambda_l2 is set=300, reg_lambda=0.0 will be ignored. Current value: lambda_l2=300\n",
      "[LightGBM] [Warning] lambda_l2 is set=300, reg_lambda=0.0 will be ignored. Current value: lambda_l2=300\n",
      "[LightGBM] [Warning] lambda_l2 is set=300, reg_lambda=0.0 will be ignored. Current value: lambda_l2=300\n",
      "[LightGBM] [Warning] lambda_l2 is set=300, reg_lambda=0.0 will be ignored. Current value: lambda_l2=300\n",
      "[LightGBM] [Warning] lambda_l2 is set=300, reg_lambda=0.0 will be ignored. Current value: lambda_l2=300\n",
      "[LightGBM] [Warning] lambda_l2 is set=300, reg_lambda=0.0 will be ignored. Current value: lambda_l2=300\n",
      "[LightGBM] [Warning] lambda_l2 is set=300, reg_lambda=0.0 will be ignored. Current value: lambda_l2=300\n",
      "[LightGBM] [Warning] lambda_l2 is set=300, reg_lambda=0.0 will be ignored. Current value: lambda_l2=300\n",
      "[LightGBM] [Warning] lambda_l2 is set=300, reg_lambda=0.0 will be ignored. Current value: lambda_l2=300\n",
      "[LightGBM] [Warning] lambda_l2 is set=300, reg_lambda=0.0 will be ignored. Current value: lambda_l2=300\n",
      "[LightGBM] [Warning] lambda_l2 is set=300, reg_lambda=0.0 will be ignored. Current value: lambda_l2=300\n",
      "[LightGBM] [Warning] lambda_l2 is set=300, reg_lambda=0.0 will be ignored. Current value: lambda_l2=300\n",
      "[LightGBM] [Warning] lambda_l2 is set=300, reg_lambda=0.0 will be ignored. Current value: lambda_l2=300\n",
      "[LightGBM] [Warning] lambda_l2 is set=300, reg_lambda=0.0 will be ignored. Current value: lambda_l2=300\n",
      "[LightGBM] [Warning] lambda_l2 is set=300, reg_lambda=0.0 will be ignored. Current value: lambda_l2=300\n",
      "[LightGBM] [Warning] lambda_l2 is set=300, reg_lambda=0.0 will be ignored. Current value: lambda_l2=300\n",
      "[LightGBM] [Warning] lambda_l2 is set=300, reg_lambda=0.0 will be ignored. Current value: lambda_l2=300\n",
      "[LightGBM] [Warning] lambda_l2 is set=300, reg_lambda=0.0 will be ignored. Current value: lambda_l2=300\n",
      "[LightGBM] [Warning] lambda_l2 is set=300, reg_lambda=0.0 will be ignored. Current value: lambda_l2=300\n",
      "[LightGBM] [Warning] lambda_l2 is set=300, reg_lambda=0.0 will be ignored. Current value: lambda_l2=300\n",
      "[LightGBM] [Warning] lambda_l2 is set=300, reg_lambda=0.0 will be ignored. Current value: lambda_l2=300\n",
      "[LightGBM] [Warning] lambda_l2 is set=300, reg_lambda=0.0 will be ignored. Current value: lambda_l2=300\n",
      "[LightGBM] [Warning] lambda_l2 is set=300, reg_lambda=0.0 will be ignored. Current value: lambda_l2=300\n",
      "[LightGBM] [Warning] lambda_l2 is set=300, reg_lambda=0.0 will be ignored. Current value: lambda_l2=300\n",
      "[LightGBM] [Warning] lambda_l2 is set=300, reg_lambda=0.0 will be ignored. Current value: lambda_l2=300\n",
      "[LightGBM] [Warning] lambda_l2 is set=300, reg_lambda=0.0 will be ignored. Current value: lambda_l2=300\n",
      "[LightGBM] [Warning] lambda_l2 is set=300, reg_lambda=0.0 will be ignored. Current value: lambda_l2=300\n",
      "[LightGBM] [Warning] lambda_l2 is set=300, reg_lambda=0.0 will be ignored. Current value: lambda_l2=300\n",
      "[LightGBM] [Warning] lambda_l2 is set=300, reg_lambda=0.0 will be ignored. Current value: lambda_l2=300\n",
      "[LightGBM] [Warning] lambda_l2 is set=300, reg_lambda=0.0 will be ignored. Current value: lambda_l2=300\n",
      "[LightGBM] [Warning] lambda_l2 is set=300, reg_lambda=0.0 will be ignored. Current value: lambda_l2=300\n",
      "[LightGBM] [Warning] lambda_l2 is set=300, reg_lambda=0.0 will be ignored. Current value: lambda_l2=300\n",
      "[LightGBM] [Warning] lambda_l2 is set=300, reg_lambda=0.0 will be ignored. Current value: lambda_l2=300\n",
      "[LightGBM] [Warning] lambda_l2 is set=300, reg_lambda=0.0 will be ignored. Current value: lambda_l2=300\n",
      "[LightGBM] [Warning] lambda_l2 is set=300, reg_lambda=0.0 will be ignored. Current value: lambda_l2=300\n",
      "[LightGBM] [Warning] lambda_l2 is set=300, reg_lambda=0.0 will be ignored. Current value: lambda_l2=300\n",
      "[LightGBM] [Warning] lambda_l2 is set=300, reg_lambda=0.0 will be ignored. Current value: lambda_l2=300\n",
      "[LightGBM] [Warning] lambda_l2 is set=300, reg_lambda=0.0 will be ignored. Current value: lambda_l2=300\n",
      "[LightGBM] [Warning] lambda_l2 is set=300, reg_lambda=0.0 will be ignored. Current value: lambda_l2=300\n",
      "[LightGBM] [Warning] lambda_l2 is set=300, reg_lambda=0.0 will be ignored. Current value: lambda_l2=300\n",
      "[LightGBM] [Warning] lambda_l2 is set=300, reg_lambda=0.0 will be ignored. Current value: lambda_l2=300\n",
      "[LightGBM] [Warning] lambda_l2 is set=300, reg_lambda=0.0 will be ignored. Current value: lambda_l2=300\n",
      "[LightGBM] [Warning] lambda_l2 is set=300, reg_lambda=0.0 will be ignored. Current value: lambda_l2=300\n",
      "[LightGBM] [Warning] lambda_l2 is set=300, reg_lambda=0.0 will be ignored. Current value: lambda_l2=300\n",
      "[LightGBM] [Warning] lambda_l2 is set=300, reg_lambda=0.0 will be ignored. Current value: lambda_l2=300\n",
      "[LightGBM] [Warning] lambda_l2 is set=300, reg_lambda=0.0 will be ignored. Current value: lambda_l2=300\n",
      "[LightGBM] [Warning] lambda_l2 is set=300, reg_lambda=0.0 will be ignored. Current value: lambda_l2=300\n",
      "[LightGBM] [Warning] lambda_l2 is set=300, reg_lambda=0.0 will be ignored. Current value: lambda_l2=300\n",
      "[LightGBM] [Warning] lambda_l2 is set=300, reg_lambda=0.0 will be ignored. Current value: lambda_l2=300\n",
      "[LightGBM] [Warning] lambda_l2 is set=300, reg_lambda=0.0 will be ignored. Current value: lambda_l2=300\n",
      "[LightGBM] [Warning] lambda_l2 is set=300, reg_lambda=0.0 will be ignored. Current value: lambda_l2=300\n",
      "[LightGBM] [Warning] lambda_l2 is set=300, reg_lambda=0.0 will be ignored. Current value: lambda_l2=300\n",
      "[LightGBM] [Warning] lambda_l2 is set=300, reg_lambda=0.0 will be ignored. Current value: lambda_l2=300\n",
      "[LightGBM] [Warning] lambda_l2 is set=300, reg_lambda=0.0 will be ignored. Current value: lambda_l2=300\n",
      "[LightGBM] [Warning] lambda_l2 is set=300, reg_lambda=0.0 will be ignored. Current value: lambda_l2=300\n",
      "[LightGBM] [Warning] lambda_l2 is set=300, reg_lambda=0.0 will be ignored. Current value: lambda_l2=300\n",
      "[LightGBM] [Warning] lambda_l2 is set=300, reg_lambda=0.0 will be ignored. Current value: lambda_l2=300\n",
      "[LightGBM] [Warning] lambda_l2 is set=300, reg_lambda=0.0 will be ignored. Current value: lambda_l2=300\n",
      "[LightGBM] [Warning] lambda_l2 is set=300, reg_lambda=0.0 will be ignored. Current value: lambda_l2=300\n",
      "[LightGBM] [Warning] lambda_l2 is set=300, reg_lambda=0.0 will be ignored. Current value: lambda_l2=300\n",
      "[LightGBM] [Warning] lambda_l2 is set=300, reg_lambda=0.0 will be ignored. Current value: lambda_l2=300\n",
      "[LightGBM] [Warning] lambda_l2 is set=300, reg_lambda=0.0 will be ignored. Current value: lambda_l2=300\n",
      "[LightGBM] [Warning] lambda_l2 is set=300, reg_lambda=0.0 will be ignored. Current value: lambda_l2=300\n",
      "[LightGBM] [Warning] lambda_l2 is set=300, reg_lambda=0.0 will be ignored. Current value: lambda_l2=300\n",
      "[LightGBM] [Warning] lambda_l2 is set=300, reg_lambda=0.0 will be ignored. Current value: lambda_l2=300\n",
      "[LightGBM] [Warning] lambda_l2 is set=300, reg_lambda=0.0 will be ignored. Current value: lambda_l2=300\n",
      "[LightGBM] [Warning] lambda_l2 is set=300, reg_lambda=0.0 will be ignored. Current value: lambda_l2=300\n",
      "[LightGBM] [Warning] lambda_l2 is set=300, reg_lambda=0.0 will be ignored. Current value: lambda_l2=300\n",
      "[LightGBM] [Warning] lambda_l2 is set=300, reg_lambda=0.0 will be ignored. Current value: lambda_l2=300\n",
      "[LightGBM] [Warning] lambda_l2 is set=300, reg_lambda=0.0 will be ignored. Current value: lambda_l2=300\n",
      "[LightGBM] [Warning] lambda_l2 is set=300, reg_lambda=0.0 will be ignored. Current value: lambda_l2=300\n",
      "[LightGBM] [Warning] lambda_l2 is set=300, reg_lambda=0.0 will be ignored. Current value: lambda_l2=300\n",
      "[LightGBM] [Warning] lambda_l2 is set=300, reg_lambda=0.0 will be ignored. Current value: lambda_l2=300\n"
     ]
    },
    {
     "name": "stdout",
     "output_type": "stream",
     "text": [
      "[LightGBM] [Warning] lambda_l2 is set=300, reg_lambda=0.0 will be ignored. Current value: lambda_l2=300\n",
      "[LightGBM] [Warning] lambda_l2 is set=300, reg_lambda=0.0 will be ignored. Current value: lambda_l2=300\n",
      "[LightGBM] [Warning] lambda_l2 is set=300, reg_lambda=0.0 will be ignored. Current value: lambda_l2=300\n",
      "[LightGBM] [Warning] lambda_l2 is set=300, reg_lambda=0.0 will be ignored. Current value: lambda_l2=300\n",
      "[LightGBM] [Warning] lambda_l2 is set=300, reg_lambda=0.0 will be ignored. Current value: lambda_l2=300\n",
      "[LightGBM] [Warning] lambda_l2 is set=300, reg_lambda=0.0 will be ignored. Current value: lambda_l2=300\n",
      "[LightGBM] [Warning] lambda_l2 is set=300, reg_lambda=0.0 will be ignored. Current value: lambda_l2=300\n",
      "[LightGBM] [Warning] lambda_l2 is set=300, reg_lambda=0.0 will be ignored. Current value: lambda_l2=300\n",
      "[LightGBM] [Warning] lambda_l2 is set=300, reg_lambda=0.0 will be ignored. Current value: lambda_l2=300\n",
      "[LightGBM] [Warning] lambda_l2 is set=300, reg_lambda=0.0 will be ignored. Current value: lambda_l2=300\n",
      "[LightGBM] [Warning] lambda_l2 is set=300, reg_lambda=0.0 will be ignored. Current value: lambda_l2=300\n",
      "[LightGBM] [Warning] lambda_l2 is set=300, reg_lambda=0.0 will be ignored. Current value: lambda_l2=300\n",
      "[LightGBM] [Warning] lambda_l2 is set=300, reg_lambda=0.0 will be ignored. Current value: lambda_l2=300\n",
      "[LightGBM] [Warning] lambda_l2 is set=300, reg_lambda=0.0 will be ignored. Current value: lambda_l2=300\n",
      "[LightGBM] [Warning] lambda_l2 is set=300, reg_lambda=0.0 will be ignored. Current value: lambda_l2=300\n",
      "[LightGBM] [Warning] lambda_l2 is set=300, reg_lambda=0.0 will be ignored. Current value: lambda_l2=300\n",
      "[LightGBM] [Warning] lambda_l2 is set=300, reg_lambda=0.0 will be ignored. Current value: lambda_l2=300\n",
      "[LightGBM] [Warning] lambda_l2 is set=300, reg_lambda=0.0 will be ignored. Current value: lambda_l2=300\n",
      "[LightGBM] [Warning] lambda_l2 is set=300, reg_lambda=0.0 will be ignored. Current value: lambda_l2=300\n",
      "[LightGBM] [Warning] lambda_l2 is set=300, reg_lambda=0.0 will be ignored. Current value: lambda_l2=300\n",
      "[LightGBM] [Warning] lambda_l2 is set=300, reg_lambda=0.0 will be ignored. Current value: lambda_l2=300\n",
      "[LightGBM] [Warning] lambda_l2 is set=300, reg_lambda=0.0 will be ignored. Current value: lambda_l2=300\n",
      "[LightGBM] [Warning] lambda_l2 is set=300, reg_lambda=0.0 will be ignored. Current value: lambda_l2=300\n",
      "[LightGBM] [Warning] lambda_l2 is set=300, reg_lambda=0.0 will be ignored. Current value: lambda_l2=300\n",
      "[LightGBM] [Warning] lambda_l2 is set=300, reg_lambda=0.0 will be ignored. Current value: lambda_l2=300\n",
      "[LightGBM] [Warning] lambda_l2 is set=300, reg_lambda=0.0 will be ignored. Current value: lambda_l2=300\n",
      "[LightGBM] [Warning] lambda_l2 is set=300, reg_lambda=0.0 will be ignored. Current value: lambda_l2=300\n",
      "[LightGBM] [Warning] lambda_l2 is set=300, reg_lambda=0.0 will be ignored. Current value: lambda_l2=300\n",
      "[LightGBM] [Warning] lambda_l2 is set=300, reg_lambda=0.0 will be ignored. Current value: lambda_l2=300\n",
      "[LightGBM] [Warning] lambda_l2 is set=300, reg_lambda=0.0 will be ignored. Current value: lambda_l2=300\n",
      "[LightGBM] [Warning] lambda_l2 is set=300, reg_lambda=0.0 will be ignored. Current value: lambda_l2=300\n",
      "[LightGBM] [Warning] lambda_l2 is set=300, reg_lambda=0.0 will be ignored. Current value: lambda_l2=300\n",
      "[LightGBM] [Warning] lambda_l2 is set=300, reg_lambda=0.0 will be ignored. Current value: lambda_l2=300\n",
      "[LightGBM] [Warning] lambda_l2 is set=300, reg_lambda=0.0 will be ignored. Current value: lambda_l2=300\n",
      "[LightGBM] [Warning] lambda_l2 is set=300, reg_lambda=0.0 will be ignored. Current value: lambda_l2=300\n",
      "[LightGBM] [Warning] lambda_l2 is set=300, reg_lambda=0.0 will be ignored. Current value: lambda_l2=300\n",
      "[LightGBM] [Warning] lambda_l2 is set=300, reg_lambda=0.0 will be ignored. Current value: lambda_l2=300\n",
      "[LightGBM] [Warning] lambda_l2 is set=300, reg_lambda=0.0 will be ignored. Current value: lambda_l2=300\n",
      "[LightGBM] [Warning] lambda_l2 is set=300, reg_lambda=0.0 will be ignored. Current value: lambda_l2=300\n",
      "[LightGBM] [Warning] lambda_l2 is set=300, reg_lambda=0.0 will be ignored. Current value: lambda_l2=300\n",
      "[LightGBM] [Warning] lambda_l2 is set=300, reg_lambda=0.0 will be ignored. Current value: lambda_l2=300\n",
      "[LightGBM] [Warning] lambda_l2 is set=300, reg_lambda=0.0 will be ignored. Current value: lambda_l2=300\n",
      "[LightGBM] [Warning] lambda_l2 is set=300, reg_lambda=0.0 will be ignored. Current value: lambda_l2=300\n",
      "[LightGBM] [Warning] lambda_l2 is set=300, reg_lambda=0.0 will be ignored. Current value: lambda_l2=300\n",
      "[LightGBM] [Warning] lambda_l2 is set=300, reg_lambda=0.0 will be ignored. Current value: lambda_l2=300\n",
      "[LightGBM] [Warning] lambda_l2 is set=300, reg_lambda=0.0 will be ignored. Current value: lambda_l2=300\n",
      "[LightGBM] [Warning] lambda_l2 is set=300, reg_lambda=0.0 will be ignored. Current value: lambda_l2=300\n",
      "[LightGBM] [Warning] lambda_l2 is set=300, reg_lambda=0.0 will be ignored. Current value: lambda_l2=300\n",
      "[LightGBM] [Warning] lambda_l2 is set=300, reg_lambda=0.0 will be ignored. Current value: lambda_l2=300\n",
      "[LightGBM] [Warning] lambda_l2 is set=300, reg_lambda=0.0 will be ignored. Current value: lambda_l2=300\n",
      "[LightGBM] [Warning] lambda_l2 is set=300, reg_lambda=0.0 will be ignored. Current value: lambda_l2=300\n",
      "[LightGBM] [Warning] lambda_l2 is set=300, reg_lambda=0.0 will be ignored. Current value: lambda_l2=300\n",
      "[LightGBM] [Warning] lambda_l2 is set=300, reg_lambda=0.0 will be ignored. Current value: lambda_l2=300\n",
      "[LightGBM] [Warning] lambda_l2 is set=300, reg_lambda=0.0 will be ignored. Current value: lambda_l2=300\n",
      "[LightGBM] [Warning] lambda_l2 is set=300, reg_lambda=0.0 will be ignored. Current value: lambda_l2=300\n",
      "[LightGBM] [Warning] lambda_l2 is set=300, reg_lambda=0.0 will be ignored. Current value: lambda_l2=300\n",
      "[LightGBM] [Warning] lambda_l2 is set=300, reg_lambda=0.0 will be ignored. Current value: lambda_l2=300\n",
      "[LightGBM] [Warning] lambda_l2 is set=300, reg_lambda=0.0 will be ignored. Current value: lambda_l2=300\n",
      "[LightGBM] [Warning] lambda_l2 is set=300, reg_lambda=0.0 will be ignored. Current value: lambda_l2=300\n",
      "[LightGBM] [Warning] lambda_l2 is set=300, reg_lambda=0.0 will be ignored. Current value: lambda_l2=300\n",
      "[LightGBM] [Warning] lambda_l2 is set=300, reg_lambda=0.0 will be ignored. Current value: lambda_l2=300\n",
      "[LightGBM] [Warning] lambda_l2 is set=300, reg_lambda=0.0 will be ignored. Current value: lambda_l2=300\n",
      "[LightGBM] [Warning] lambda_l2 is set=300, reg_lambda=0.0 will be ignored. Current value: lambda_l2=300\n",
      "[LightGBM] [Warning] lambda_l2 is set=300, reg_lambda=0.0 will be ignored. Current value: lambda_l2=300\n",
      "[LightGBM] [Warning] lambda_l2 is set=300, reg_lambda=0.0 will be ignored. Current value: lambda_l2=300\n",
      "[LightGBM] [Warning] lambda_l2 is set=300, reg_lambda=0.0 will be ignored. Current value: lambda_l2=300\n",
      "[LightGBM] [Warning] lambda_l2 is set=300, reg_lambda=0.0 will be ignored. Current value: lambda_l2=300\n",
      "[LightGBM] [Warning] lambda_l2 is set=300, reg_lambda=0.0 will be ignored. Current value: lambda_l2=300\n",
      "[LightGBM] [Warning] lambda_l2 is set=300, reg_lambda=0.0 will be ignored. Current value: lambda_l2=300\n",
      "[LightGBM] [Warning] lambda_l2 is set=300, reg_lambda=0.0 will be ignored. Current value: lambda_l2=300\n",
      "[LightGBM] [Warning] lambda_l2 is set=300, reg_lambda=0.0 will be ignored. Current value: lambda_l2=300\n",
      "[LightGBM] [Warning] lambda_l2 is set=300, reg_lambda=0.0 will be ignored. Current value: lambda_l2=300\n",
      "[LightGBM] [Warning] lambda_l2 is set=300, reg_lambda=0.0 will be ignored. Current value: lambda_l2=300\n",
      "[LightGBM] [Warning] lambda_l2 is set=300, reg_lambda=0.0 will be ignored. Current value: lambda_l2=300\n",
      "[LightGBM] [Warning] lambda_l2 is set=300, reg_lambda=0.0 will be ignored. Current value: lambda_l2=300\n",
      "[LightGBM] [Warning] lambda_l2 is set=300, reg_lambda=0.0 will be ignored. Current value: lambda_l2=300\n",
      "[LightGBM] [Warning] lambda_l2 is set=300, reg_lambda=0.0 will be ignored. Current value: lambda_l2=300\n",
      "[LightGBM] [Warning] lambda_l2 is set=300, reg_lambda=0.0 will be ignored. Current value: lambda_l2=300\n",
      "[LightGBM] [Warning] lambda_l2 is set=300, reg_lambda=0.0 will be ignored. Current value: lambda_l2=300\n"
     ]
    },
    {
     "name": "stdout",
     "output_type": "stream",
     "text": [
      "[LightGBM] [Warning] lambda_l2 is set=300, reg_lambda=0.0 will be ignored. Current value: lambda_l2=300\n",
      "[LightGBM] [Warning] lambda_l2 is set=300, reg_lambda=0.0 will be ignored. Current value: lambda_l2=300\n",
      "[LightGBM] [Warning] lambda_l2 is set=300, reg_lambda=0.0 will be ignored. Current value: lambda_l2=300\n",
      "[LightGBM] [Warning] lambda_l2 is set=300, reg_lambda=0.0 will be ignored. Current value: lambda_l2=300\n",
      "[LightGBM] [Warning] lambda_l2 is set=300, reg_lambda=0.0 will be ignored. Current value: lambda_l2=300\n",
      "[LightGBM] [Warning] lambda_l2 is set=300, reg_lambda=0.0 will be ignored. Current value: lambda_l2=300\n",
      "[LightGBM] [Warning] lambda_l2 is set=300, reg_lambda=0.0 will be ignored. Current value: lambda_l2=300\n",
      "[LightGBM] [Warning] lambda_l2 is set=300, reg_lambda=0.0 will be ignored. Current value: lambda_l2=300\n",
      "[LightGBM] [Warning] lambda_l2 is set=300, reg_lambda=0.0 will be ignored. Current value: lambda_l2=300\n",
      "[LightGBM] [Warning] lambda_l2 is set=300, reg_lambda=0.0 will be ignored. Current value: lambda_l2=300\n",
      "[LightGBM] [Warning] lambda_l2 is set=300, reg_lambda=0.0 will be ignored. Current value: lambda_l2=300\n",
      "[LightGBM] [Warning] lambda_l2 is set=300, reg_lambda=0.0 will be ignored. Current value: lambda_l2=300\n",
      "[LightGBM] [Warning] lambda_l2 is set=300, reg_lambda=0.0 will be ignored. Current value: lambda_l2=300\n",
      "[LightGBM] [Warning] lambda_l2 is set=300, reg_lambda=0.0 will be ignored. Current value: lambda_l2=300\n",
      "[LightGBM] [Warning] lambda_l2 is set=300, reg_lambda=0.0 will be ignored. Current value: lambda_l2=300\n",
      "[LightGBM] [Warning] lambda_l2 is set=300, reg_lambda=0.0 will be ignored. Current value: lambda_l2=300\n",
      "Wall time: 13min 25s\n"
     ]
    },
    {
     "data": {
      "text/plain": [
       "{'classifier__lambda_l2': 200,\n",
       " 'classifier__learning_rate': 0.1,\n",
       " 'classifier__n_estimators': 500,\n",
       " 'classifier__n_jobs': -1,\n",
       " 'classifier__num_leaves': 10}"
      ]
     },
     "execution_count": 246,
     "metadata": {},
     "output_type": "execute_result"
    }
   ],
   "source": [
    "%%time\n",
    "grid = GridSearchCV(classifier_3,\n",
    "                    param_grid=params,\n",
    "                    cv=6,\n",
    "                    refit=False)\n",
    "\n",
    "search = grid.fit(X_train, y_train)\n",
    "search.best_params_"
   ]
  },
  {
   "cell_type": "markdown",
   "metadata": {},
   "source": [
    "Обучаем модель с новыми параметрами"
   ]
  },
  {
   "cell_type": "code",
   "execution_count": 247,
   "metadata": {},
   "outputs": [],
   "source": [
    "classifier_4 = Pipeline([\n",
    "    ('features',feats),\n",
    "    ('classifier', LGBMClassifier(\n",
    "        random_state = 42, silent=True, lambda_l2=200, \n",
    "        learning_rate=0.1, n_estimators=500, num_leaves=10, n_jobs=-1)),\n",
    "])"
   ]
  },
  {
   "cell_type": "code",
   "execution_count": 248,
   "metadata": {},
   "outputs": [],
   "source": [
    "metrics_best = {'LGBMClassifier': classifier_4 \n",
    "          }\n",
    "info_best = pd.DataFrame(columns=metrics_best.keys())"
   ]
  },
  {
   "cell_type": "code",
   "execution_count": 249,
   "metadata": {},
   "outputs": [
    {
     "name": "stdout",
     "output_type": "stream",
     "text": [
      "LGBMClassifier Pipeline(memory=None,\n",
      "         steps=[('features',\n",
      "                 FeatureUnion(n_jobs=None,\n",
      "                              transformer_list=[('Geography',\n",
      "                                                 Pipeline(memory=None,\n",
      "                                                          steps=[('selector',\n",
      "                                                                  FeatureSelector(column='Geography')),\n",
      "                                                                 ('ohe',\n",
      "                                                                  OHEEncoder(key='Geography'))],\n",
      "                                                          verbose=False)),\n",
      "                                                ('Gender',\n",
      "                                                 Pipeline(memory=None,\n",
      "                                                          steps=[('selector',\n",
      "                                                                  FeatureSelector(column='Gender')),\n",
      "                                                                 ('ohe',\n",
      "                                                                  OHEEncoder(key='Gender'))],\n",
      "                                                          verbos...\n",
      "                 LGBMClassifier(boosting_type='gbdt', class_weight=None,\n",
      "                                colsample_bytree=1.0, importance_type='split',\n",
      "                                lambda_l2=200, learning_rate=0.1, max_depth=-1,\n",
      "                                min_child_samples=20, min_child_weight=0.001,\n",
      "                                min_split_gain=0.0, n_estimators=500, n_jobs=-1,\n",
      "                                num_leaves=10, objective=None, random_state=42,\n",
      "                                reg_alpha=0.0, reg_lambda=0.0, silent=True,\n",
      "                                subsample=1.0, subsample_for_bin=200000,\n",
      "                                subsample_freq=0))],\n",
      "         verbose=False)\n",
      "[LightGBM] [Warning] lambda_l2 is set=200, reg_lambda=0.0 will be ignored. Current value: lambda_l2=200\n",
      "Wall time: 682 ms\n"
     ]
    }
   ],
   "source": [
    "%%time\n",
    "\n",
    "for metric, value in metrics_best.items():\n",
    "    print(metric, value)\n",
    "    roc_auc, precision, recall, fscore, thresholds, cnf_matrix = get_metrics(value)\n",
    "    info_best.loc[f'roc_auc', metric] = roc_auc\n",
    "    info_best.loc[f'precision', metric] = precision\n",
    "    info_best.loc[f'recall', metric] = recall\n",
    "    info_best.loc[f'fscore', metric] = fscore\n",
    "    info_best.loc[f'thresholds', metric] = thresholds\n",
    "    info_best.loc[f'TP', metric] = cnf_matrix[0][0]\n",
    "    info_best.loc[f'FP', metric] = cnf_matrix[0][1]\n",
    "    info_best.loc[f'TN', metric] = cnf_matrix[1][0]\n",
    "    info_best.loc[f'FN', metric] = cnf_matrix[1][1]"
   ]
  },
  {
   "cell_type": "code",
   "execution_count": 250,
   "metadata": {},
   "outputs": [
    {
     "data": {
      "text/html": [
       "<div>\n",
       "<style scoped>\n",
       "    .dataframe tbody tr th:only-of-type {\n",
       "        vertical-align: middle;\n",
       "    }\n",
       "\n",
       "    .dataframe tbody tr th {\n",
       "        vertical-align: top;\n",
       "    }\n",
       "\n",
       "    .dataframe thead th {\n",
       "        text-align: right;\n",
       "    }\n",
       "</style>\n",
       "<table border=\"1\" class=\"dataframe\">\n",
       "  <thead>\n",
       "    <tr style=\"text-align: right;\">\n",
       "      <th></th>\n",
       "      <th>LGBMClassifier</th>\n",
       "    </tr>\n",
       "  </thead>\n",
       "  <tbody>\n",
       "    <tr>\n",
       "      <th>roc_auc</th>\n",
       "      <td>0.874355</td>\n",
       "    </tr>\n",
       "    <tr>\n",
       "      <th>precision</th>\n",
       "      <td>0.643287</td>\n",
       "    </tr>\n",
       "    <tr>\n",
       "      <th>recall</th>\n",
       "      <td>0.630648</td>\n",
       "    </tr>\n",
       "    <tr>\n",
       "      <th>fscore</th>\n",
       "      <td>0.636905</td>\n",
       "    </tr>\n",
       "    <tr>\n",
       "      <th>thresholds</th>\n",
       "      <td>0.399532</td>\n",
       "    </tr>\n",
       "    <tr>\n",
       "      <th>TP</th>\n",
       "      <td>1838</td>\n",
       "    </tr>\n",
       "    <tr>\n",
       "      <th>FP</th>\n",
       "      <td>153</td>\n",
       "    </tr>\n",
       "    <tr>\n",
       "      <th>TN</th>\n",
       "      <td>199</td>\n",
       "    </tr>\n",
       "    <tr>\n",
       "      <th>FN</th>\n",
       "      <td>310</td>\n",
       "    </tr>\n",
       "  </tbody>\n",
       "</table>\n",
       "</div>"
      ],
      "text/plain": [
       "           LGBMClassifier\n",
       "roc_auc          0.874355\n",
       "precision        0.643287\n",
       "recall           0.630648\n",
       "fscore           0.636905\n",
       "thresholds       0.399532\n",
       "TP                   1838\n",
       "FP                    153\n",
       "TN                    199\n",
       "FN                    310"
      ]
     },
     "execution_count": 250,
     "metadata": {},
     "output_type": "execute_result"
    }
   ],
   "source": [
    "info_best"
   ]
  },
  {
   "cell_type": "markdown",
   "metadata": {},
   "source": [
    "<b>Задание 5. (опционально) Еще раз провести оценку экономической эффективности<b>"
   ]
  },
  {
   "cell_type": "code",
   "execution_count": 251,
   "metadata": {},
   "outputs": [
    {
     "data": {
      "text/plain": [
       "(1838, 153, 199, 310)"
      ]
     },
     "execution_count": 251,
     "metadata": {},
     "output_type": "execute_result"
    }
   ],
   "source": [
    "TP=info_best['LGBMClassifier'][5]\n",
    "FP=info_best['LGBMClassifier'][6]\n",
    "TN=info_best['LGBMClassifier'][7]\n",
    "FN=info_best['LGBMClassifier'][8]\n",
    "TP, FP, TN, FN"
   ]
  },
  {
   "cell_type": "code",
   "execution_count": 252,
   "metadata": {},
   "outputs": [
    {
     "name": "stdout",
     "output_type": "stream",
     "text": [
      "На отложенной выборке из 2500 пользователей прибыль (убыток) составляет $ 1685\n"
     ]
    }
   ],
   "source": [
    "print(f'На отложенной выборке из {y_test.shape[0]} пользователей прибыль (убыток) составляет $ {2 * TP - (TP + FP)}')"
   ]
  },
  {
   "cell_type": "markdown",
   "metadata": {},
   "source": [
    "Экономическая эффективность повысилась в результате подбора гиперпараметров лучшей модели по иогам п.2-3."
   ]
  },
  {
   "cell_type": "code",
   "execution_count": null,
   "metadata": {},
   "outputs": [],
   "source": []
  }
 ],
 "metadata": {
  "kernelspec": {
   "display_name": "Python 3",
   "language": "python",
   "name": "python3"
  },
  "language_info": {
   "codemirror_mode": {
    "name": "ipython",
    "version": 3
   },
   "file_extension": ".py",
   "mimetype": "text/x-python",
   "name": "python",
   "nbconvert_exporter": "python",
   "pygments_lexer": "ipython3",
   "version": "3.7.6"
  }
 },
 "nbformat": 4,
 "nbformat_minor": 4
}
